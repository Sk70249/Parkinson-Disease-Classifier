{
 "cells": [
  {
   "cell_type": "markdown",
   "metadata": {},
   "source": [
    "# Parkinson Disease Analysis & Prediction"
   ]
  },
  {
   "cell_type": "code",
   "execution_count": 75,
   "metadata": {},
   "outputs": [],
   "source": [
    "import matplotlib.pyplot as plt\n",
    "import pandas as pd\n",
    "import numpy as np\n",
    "import seaborn as sns"
   ]
  },
  {
   "cell_type": "code",
   "execution_count": 78,
   "metadata": {},
   "outputs": [],
   "source": [
    "parkinson_data = pd.read_csv(\"parkinsons_data.txt\")"
   ]
  },
  {
   "cell_type": "code",
   "execution_count": 79,
   "metadata": {},
   "outputs": [
    {
     "data": {
      "text/html": [
       "<div>\n",
       "<style scoped>\n",
       "    .dataframe tbody tr th:only-of-type {\n",
       "        vertical-align: middle;\n",
       "    }\n",
       "\n",
       "    .dataframe tbody tr th {\n",
       "        vertical-align: top;\n",
       "    }\n",
       "\n",
       "    .dataframe thead th {\n",
       "        text-align: right;\n",
       "    }\n",
       "</style>\n",
       "<table border=\"1\" class=\"dataframe\">\n",
       "  <thead>\n",
       "    <tr style=\"text-align: right;\">\n",
       "      <th></th>\n",
       "      <th>subject#</th>\n",
       "      <th>age</th>\n",
       "      <th>sex</th>\n",
       "      <th>test_time</th>\n",
       "      <th>motor_UPDRS</th>\n",
       "      <th>total_UPDRS</th>\n",
       "      <th>Jitter(%)</th>\n",
       "      <th>Jitter(Abs)</th>\n",
       "      <th>Jitter:RAP</th>\n",
       "      <th>Jitter:PPQ5</th>\n",
       "      <th>...</th>\n",
       "      <th>Shimmer(dB)</th>\n",
       "      <th>Shimmer:APQ3</th>\n",
       "      <th>Shimmer:APQ5</th>\n",
       "      <th>Shimmer:APQ11</th>\n",
       "      <th>Shimmer:DDA</th>\n",
       "      <th>NHR</th>\n",
       "      <th>HNR</th>\n",
       "      <th>RPDE</th>\n",
       "      <th>DFA</th>\n",
       "      <th>PPE</th>\n",
       "    </tr>\n",
       "  </thead>\n",
       "  <tbody>\n",
       "    <tr>\n",
       "      <td>0</td>\n",
       "      <td>1</td>\n",
       "      <td>72</td>\n",
       "      <td>0</td>\n",
       "      <td>5.6431</td>\n",
       "      <td>28.199</td>\n",
       "      <td>34.398</td>\n",
       "      <td>0.00662</td>\n",
       "      <td>0.000034</td>\n",
       "      <td>0.00401</td>\n",
       "      <td>0.00317</td>\n",
       "      <td>...</td>\n",
       "      <td>0.230</td>\n",
       "      <td>0.01438</td>\n",
       "      <td>0.01309</td>\n",
       "      <td>0.01662</td>\n",
       "      <td>0.04314</td>\n",
       "      <td>0.014290</td>\n",
       "      <td>21.640</td>\n",
       "      <td>0.41888</td>\n",
       "      <td>0.54842</td>\n",
       "      <td>0.16006</td>\n",
       "    </tr>\n",
       "    <tr>\n",
       "      <td>1</td>\n",
       "      <td>1</td>\n",
       "      <td>72</td>\n",
       "      <td>0</td>\n",
       "      <td>12.6660</td>\n",
       "      <td>28.447</td>\n",
       "      <td>34.894</td>\n",
       "      <td>0.00300</td>\n",
       "      <td>0.000017</td>\n",
       "      <td>0.00132</td>\n",
       "      <td>0.00150</td>\n",
       "      <td>...</td>\n",
       "      <td>0.179</td>\n",
       "      <td>0.00994</td>\n",
       "      <td>0.01072</td>\n",
       "      <td>0.01689</td>\n",
       "      <td>0.02982</td>\n",
       "      <td>0.011112</td>\n",
       "      <td>27.183</td>\n",
       "      <td>0.43493</td>\n",
       "      <td>0.56477</td>\n",
       "      <td>0.10810</td>\n",
       "    </tr>\n",
       "    <tr>\n",
       "      <td>2</td>\n",
       "      <td>1</td>\n",
       "      <td>72</td>\n",
       "      <td>0</td>\n",
       "      <td>19.6810</td>\n",
       "      <td>28.695</td>\n",
       "      <td>35.389</td>\n",
       "      <td>0.00481</td>\n",
       "      <td>0.000025</td>\n",
       "      <td>0.00205</td>\n",
       "      <td>0.00208</td>\n",
       "      <td>...</td>\n",
       "      <td>0.181</td>\n",
       "      <td>0.00734</td>\n",
       "      <td>0.00844</td>\n",
       "      <td>0.01458</td>\n",
       "      <td>0.02202</td>\n",
       "      <td>0.020220</td>\n",
       "      <td>23.047</td>\n",
       "      <td>0.46222</td>\n",
       "      <td>0.54405</td>\n",
       "      <td>0.21014</td>\n",
       "    </tr>\n",
       "    <tr>\n",
       "      <td>3</td>\n",
       "      <td>1</td>\n",
       "      <td>72</td>\n",
       "      <td>0</td>\n",
       "      <td>25.6470</td>\n",
       "      <td>28.905</td>\n",
       "      <td>35.810</td>\n",
       "      <td>0.00528</td>\n",
       "      <td>0.000027</td>\n",
       "      <td>0.00191</td>\n",
       "      <td>0.00264</td>\n",
       "      <td>...</td>\n",
       "      <td>0.327</td>\n",
       "      <td>0.01106</td>\n",
       "      <td>0.01265</td>\n",
       "      <td>0.01963</td>\n",
       "      <td>0.03317</td>\n",
       "      <td>0.027837</td>\n",
       "      <td>24.445</td>\n",
       "      <td>0.48730</td>\n",
       "      <td>0.57794</td>\n",
       "      <td>0.33277</td>\n",
       "    </tr>\n",
       "    <tr>\n",
       "      <td>4</td>\n",
       "      <td>1</td>\n",
       "      <td>72</td>\n",
       "      <td>0</td>\n",
       "      <td>33.6420</td>\n",
       "      <td>29.187</td>\n",
       "      <td>36.375</td>\n",
       "      <td>0.00335</td>\n",
       "      <td>0.000020</td>\n",
       "      <td>0.00093</td>\n",
       "      <td>0.00130</td>\n",
       "      <td>...</td>\n",
       "      <td>0.176</td>\n",
       "      <td>0.00679</td>\n",
       "      <td>0.00929</td>\n",
       "      <td>0.01819</td>\n",
       "      <td>0.02036</td>\n",
       "      <td>0.011625</td>\n",
       "      <td>26.126</td>\n",
       "      <td>0.47188</td>\n",
       "      <td>0.56122</td>\n",
       "      <td>0.19361</td>\n",
       "    </tr>\n",
       "  </tbody>\n",
       "</table>\n",
       "<p>5 rows × 22 columns</p>\n",
       "</div>"
      ],
      "text/plain": [
       "   subject#  age  sex  test_time  motor_UPDRS  total_UPDRS  Jitter(%)  \\\n",
       "0         1   72    0     5.6431       28.199       34.398    0.00662   \n",
       "1         1   72    0    12.6660       28.447       34.894    0.00300   \n",
       "2         1   72    0    19.6810       28.695       35.389    0.00481   \n",
       "3         1   72    0    25.6470       28.905       35.810    0.00528   \n",
       "4         1   72    0    33.6420       29.187       36.375    0.00335   \n",
       "\n",
       "   Jitter(Abs)  Jitter:RAP  Jitter:PPQ5  ...  Shimmer(dB)  Shimmer:APQ3  \\\n",
       "0     0.000034     0.00401      0.00317  ...        0.230       0.01438   \n",
       "1     0.000017     0.00132      0.00150  ...        0.179       0.00994   \n",
       "2     0.000025     0.00205      0.00208  ...        0.181       0.00734   \n",
       "3     0.000027     0.00191      0.00264  ...        0.327       0.01106   \n",
       "4     0.000020     0.00093      0.00130  ...        0.176       0.00679   \n",
       "\n",
       "   Shimmer:APQ5  Shimmer:APQ11  Shimmer:DDA       NHR     HNR     RPDE  \\\n",
       "0       0.01309        0.01662      0.04314  0.014290  21.640  0.41888   \n",
       "1       0.01072        0.01689      0.02982  0.011112  27.183  0.43493   \n",
       "2       0.00844        0.01458      0.02202  0.020220  23.047  0.46222   \n",
       "3       0.01265        0.01963      0.03317  0.027837  24.445  0.48730   \n",
       "4       0.00929        0.01819      0.02036  0.011625  26.126  0.47188   \n",
       "\n",
       "       DFA      PPE  \n",
       "0  0.54842  0.16006  \n",
       "1  0.56477  0.10810  \n",
       "2  0.54405  0.21014  \n",
       "3  0.57794  0.33277  \n",
       "4  0.56122  0.19361  \n",
       "\n",
       "[5 rows x 22 columns]"
      ]
     },
     "execution_count": 79,
     "metadata": {},
     "output_type": "execute_result"
    }
   ],
   "source": [
    "parkinson_data.head()"
   ]
  },
  {
   "cell_type": "code",
   "execution_count": 80,
   "metadata": {},
   "outputs": [],
   "source": [
    "data = parkinson_data.copy()"
   ]
  },
  {
   "cell_type": "code",
   "execution_count": 81,
   "metadata": {},
   "outputs": [
    {
     "data": {
      "text/html": [
       "<div>\n",
       "<style scoped>\n",
       "    .dataframe tbody tr th:only-of-type {\n",
       "        vertical-align: middle;\n",
       "    }\n",
       "\n",
       "    .dataframe tbody tr th {\n",
       "        vertical-align: top;\n",
       "    }\n",
       "\n",
       "    .dataframe thead th {\n",
       "        text-align: right;\n",
       "    }\n",
       "</style>\n",
       "<table border=\"1\" class=\"dataframe\">\n",
       "  <thead>\n",
       "    <tr style=\"text-align: right;\">\n",
       "      <th>col_0</th>\n",
       "      <th>count</th>\n",
       "    </tr>\n",
       "    <tr>\n",
       "      <th>sex</th>\n",
       "      <th></th>\n",
       "    </tr>\n",
       "  </thead>\n",
       "  <tbody>\n",
       "    <tr>\n",
       "      <td>0</td>\n",
       "      <td>0.682213</td>\n",
       "    </tr>\n",
       "    <tr>\n",
       "      <td>1</td>\n",
       "      <td>0.317787</td>\n",
       "    </tr>\n",
       "  </tbody>\n",
       "</table>\n",
       "</div>"
      ],
      "text/plain": [
       "col_0     count\n",
       "sex            \n",
       "0      0.682213\n",
       "1      0.317787"
      ]
     },
     "execution_count": 81,
     "metadata": {},
     "output_type": "execute_result"
    }
   ],
   "source": [
    "data[\"sex\"].value_counts()\n",
    "pd.crosstab(data[\"sex\"], columns=\"count\", normalize=True)"
   ]
  },
  {
   "cell_type": "code",
   "execution_count": 82,
   "metadata": {},
   "outputs": [
    {
     "data": {
      "text/plain": [
       "<matplotlib.axes._subplots.AxesSubplot at 0x18accc5e1c8>"
      ]
     },
     "execution_count": 82,
     "metadata": {},
     "output_type": "execute_result"
    },
    {
     "data": {
      "image/png": "[encoded data removed]",
      "text/plain": [
       "<Figure size 576x432 with 1 Axes>"
      ]
     },
     "metadata": {},
     "output_type": "display_data"
    }
   ],
   "source": [
    "sns.set(rc = {\"figure.figsize\": (8, 6)})\n",
    "sns.countplot(x=\"sex\", data=data)"
   ]
  },
  {
   "cell_type": "code",
   "execution_count": 83,
   "metadata": {},
   "outputs": [
    {
     "data": {
      "text/plain": [
       "Text(0.5, 1.0, 'sex vs age')"
      ]
     },
     "execution_count": 83,
     "metadata": {},
     "output_type": "execute_result"
    },
    {
     "data": {
      "image/png": "[encoded data removed]",
      "text/plain": [
       "<Figure size 1008x576 with 2 Axes>"
      ]
     },
     "metadata": {},
     "output_type": "display_data"
    }
   ],
   "source": [
    "fig, (axis1, axis2) = plt.subplots(1,2,figsize=(14,8))\n",
    "\n",
    "sns.boxplot(x=\"sex\", y=\"subject#\", data=data, ax=axis1, palette=\"Set2\")\n",
    "axis1.set_title(\"sex vs subject#\")\n",
    "\n",
    "sns.boxplot(x=\"sex\", y=\"age\", data=data, ax=axis2, palette=\"Set3\")\n",
    "axis2.set_title(\"sex vs age\")"
   ]
  },
  {
   "cell_type": "markdown",
   "metadata": {
    "collapsed": true
   },
   "source": [
    "Attribute Information:\n",
    "\n",
    "Matrix column entries (attributes): \n",
    "name - ASCII subject name and recording number \n",
    "MDVP:Fo(Hz) - Average vocal fundamental frequency \n",
    "MDVP:Fhi(Hz) - Maximum vocal fundamental frequency \n",
    "MDVP:Flo(Hz) - Minimum vocal fundamental frequency \n",
    "MDVP:Jitter(%),MDVP:Jitter(Abs),MDVP:RAP,MDVP:PPQ,Jitter:DDP - Several measures of variation in fundamental frequency \n",
    "MDVP:Shimmer,MDVP:Shimmer(dB),Shimmer:APQ3,Shimmer:APQ5,MDVP:APQ,Shimmer:DDA - Several measures of variation in amplitude \n",
    "NHR,HNR - Two measures of ratio of noise to tonal components in the voice \n",
    "status - Health status of the subject (one) - Parkinson's, (zero) - healthy \n",
    "RPDE,D2 - Two nonlinear dynamical complexity measures \n",
    "DFA - Signal fractal scaling exponent \n",
    "spread1,spread2,PPE - Three nonlinear measures of fundamental frequency variation "
   ]
  },
  {
   "cell_type": "code",
   "execution_count": 84,
   "metadata": {},
   "outputs": [
    {
     "data": {
      "text/plain": [
       "Index(['subject#', 'age', 'sex', 'test_time', 'motor_UPDRS', 'total_UPDRS',\n",
       "       'Jitter(%)', 'Jitter(Abs)', 'Jitter:RAP', 'Jitter:PPQ5', 'Jitter:DDP',\n",
       "       'Shimmer', 'Shimmer(dB)', 'Shimmer:APQ3', 'Shimmer:APQ5',\n",
       "       'Shimmer:APQ11', 'Shimmer:DDA', 'NHR', 'HNR', 'RPDE', 'DFA', 'PPE'],\n",
       "      dtype='object')"
      ]
     },
     "execution_count": 84,
     "metadata": {},
     "output_type": "execute_result"
    }
   ],
   "source": [
    "parkinson_data.columns"
   ]
  },
  {
   "cell_type": "code",
   "execution_count": 85,
   "metadata": {},
   "outputs": [
    {
     "name": "stdout",
     "output_type": "stream",
     "text": [
      "<class 'pandas.core.frame.DataFrame'>\n",
      "RangeIndex: 5875 entries, 0 to 5874\n",
      "Data columns (total 22 columns):\n",
      "status           5875 non-null int64\n",
      "age              5875 non-null int64\n",
      "sex              5875 non-null int64\n",
      "test_time        5875 non-null float64\n",
      "motor_UPDRS      5875 non-null float64\n",
      "total_UPDRS      5875 non-null float64\n",
      "Jitter(%)        5875 non-null float64\n",
      "Jitter(Abs)      5875 non-null float64\n",
      "Jitter:RAP       5875 non-null float64\n",
      "Jitter:PPQ5      5875 non-null float64\n",
      "Jitter:DDP       5875 non-null float64\n",
      "Shimmer          5875 non-null float64\n",
      "Shimmer(dB)      5875 non-null float64\n",
      "Shimmer:APQ3     5875 non-null float64\n",
      "Shimmer:APQ5     5875 non-null float64\n",
      "Shimmer:APQ11    5875 non-null float64\n",
      "Shimmer:DDA      5875 non-null float64\n",
      "NHR              5875 non-null float64\n",
      "HNR              5875 non-null float64\n",
      "RPDE             5875 non-null float64\n",
      "DFA              5875 non-null float64\n",
      "PPE              5875 non-null float64\n",
      "dtypes: float64(19), int64(3)\n",
      "memory usage: 1009.9 KB\n"
     ]
    }
   ],
   "source": [
    "data.columns = ['status', 'age', 'sex', 'test_time', 'motor_UPDRS', 'total_UPDRS',\n",
    "       'Jitter(%)', 'Jitter(Abs)', 'Jitter:RAP', 'Jitter:PPQ5', 'Jitter:DDP',\n",
    "       'Shimmer', 'Shimmer(dB)', 'Shimmer:APQ3', 'Shimmer:APQ5',\n",
    "       'Shimmer:APQ11', 'Shimmer:DDA', 'NHR', 'HNR', 'RPDE', 'DFA', 'PPE']\n",
    "data.info()"
   ]
  },
  {
   "cell_type": "code",
   "execution_count": 86,
   "metadata": {
    "scrolled": true
   },
   "outputs": [
    {
     "data": {
      "text/html": [
       "<div>\n",
       "<style scoped>\n",
       "    .dataframe tbody tr th:only-of-type {\n",
       "        vertical-align: middle;\n",
       "    }\n",
       "\n",
       "    .dataframe tbody tr th {\n",
       "        vertical-align: top;\n",
       "    }\n",
       "\n",
       "    .dataframe thead th {\n",
       "        text-align: right;\n",
       "    }\n",
       "</style>\n",
       "<table border=\"1\" class=\"dataframe\">\n",
       "  <thead>\n",
       "    <tr style=\"text-align: right;\">\n",
       "      <th></th>\n",
       "      <th>status</th>\n",
       "      <th>age</th>\n",
       "      <th>sex</th>\n",
       "      <th>test_time</th>\n",
       "      <th>motor_UPDRS</th>\n",
       "      <th>total_UPDRS</th>\n",
       "      <th>Jitter(%)</th>\n",
       "      <th>Jitter(Abs)</th>\n",
       "      <th>Jitter:RAP</th>\n",
       "      <th>Jitter:PPQ5</th>\n",
       "      <th>...</th>\n",
       "      <th>Shimmer(dB)</th>\n",
       "      <th>Shimmer:APQ3</th>\n",
       "      <th>Shimmer:APQ5</th>\n",
       "      <th>Shimmer:APQ11</th>\n",
       "      <th>Shimmer:DDA</th>\n",
       "      <th>NHR</th>\n",
       "      <th>HNR</th>\n",
       "      <th>RPDE</th>\n",
       "      <th>DFA</th>\n",
       "      <th>PPE</th>\n",
       "    </tr>\n",
       "  </thead>\n",
       "  <tbody>\n",
       "    <tr>\n",
       "      <td>count</td>\n",
       "      <td>5875.000000</td>\n",
       "      <td>5875.000000</td>\n",
       "      <td>5875.000000</td>\n",
       "      <td>5875.000000</td>\n",
       "      <td>5875.000000</td>\n",
       "      <td>5875.000000</td>\n",
       "      <td>5875.000000</td>\n",
       "      <td>5875.000000</td>\n",
       "      <td>5875.000000</td>\n",
       "      <td>5875.000000</td>\n",
       "      <td>...</td>\n",
       "      <td>5875.000000</td>\n",
       "      <td>5875.000000</td>\n",
       "      <td>5875.000000</td>\n",
       "      <td>5875.000000</td>\n",
       "      <td>5875.000000</td>\n",
       "      <td>5875.000000</td>\n",
       "      <td>5875.000000</td>\n",
       "      <td>5875.000000</td>\n",
       "      <td>5875.000000</td>\n",
       "      <td>5875.000000</td>\n",
       "    </tr>\n",
       "    <tr>\n",
       "      <td>mean</td>\n",
       "      <td>21.494128</td>\n",
       "      <td>64.804936</td>\n",
       "      <td>0.317787</td>\n",
       "      <td>92.863722</td>\n",
       "      <td>21.296229</td>\n",
       "      <td>29.018942</td>\n",
       "      <td>0.006154</td>\n",
       "      <td>0.000044</td>\n",
       "      <td>0.002987</td>\n",
       "      <td>0.003277</td>\n",
       "      <td>...</td>\n",
       "      <td>0.310960</td>\n",
       "      <td>0.017156</td>\n",
       "      <td>0.020144</td>\n",
       "      <td>0.027481</td>\n",
       "      <td>0.051467</td>\n",
       "      <td>0.032120</td>\n",
       "      <td>21.679495</td>\n",
       "      <td>0.541473</td>\n",
       "      <td>0.653240</td>\n",
       "      <td>0.219589</td>\n",
       "    </tr>\n",
       "    <tr>\n",
       "      <td>std</td>\n",
       "      <td>12.372279</td>\n",
       "      <td>8.821524</td>\n",
       "      <td>0.465656</td>\n",
       "      <td>53.445602</td>\n",
       "      <td>8.129282</td>\n",
       "      <td>10.700283</td>\n",
       "      <td>0.005624</td>\n",
       "      <td>0.000036</td>\n",
       "      <td>0.003124</td>\n",
       "      <td>0.003732</td>\n",
       "      <td>...</td>\n",
       "      <td>0.230254</td>\n",
       "      <td>0.013237</td>\n",
       "      <td>0.016664</td>\n",
       "      <td>0.019986</td>\n",
       "      <td>0.039711</td>\n",
       "      <td>0.059692</td>\n",
       "      <td>4.291096</td>\n",
       "      <td>0.100986</td>\n",
       "      <td>0.070902</td>\n",
       "      <td>0.091498</td>\n",
       "    </tr>\n",
       "    <tr>\n",
       "      <td>min</td>\n",
       "      <td>1.000000</td>\n",
       "      <td>36.000000</td>\n",
       "      <td>0.000000</td>\n",
       "      <td>-4.262500</td>\n",
       "      <td>5.037700</td>\n",
       "      <td>7.000000</td>\n",
       "      <td>0.000830</td>\n",
       "      <td>0.000002</td>\n",
       "      <td>0.000330</td>\n",
       "      <td>0.000430</td>\n",
       "      <td>...</td>\n",
       "      <td>0.026000</td>\n",
       "      <td>0.001610</td>\n",
       "      <td>0.001940</td>\n",
       "      <td>0.002490</td>\n",
       "      <td>0.004840</td>\n",
       "      <td>0.000286</td>\n",
       "      <td>1.659000</td>\n",
       "      <td>0.151020</td>\n",
       "      <td>0.514040</td>\n",
       "      <td>0.021983</td>\n",
       "    </tr>\n",
       "    <tr>\n",
       "      <td>25%</td>\n",
       "      <td>10.000000</td>\n",
       "      <td>58.000000</td>\n",
       "      <td>0.000000</td>\n",
       "      <td>46.847500</td>\n",
       "      <td>15.000000</td>\n",
       "      <td>21.371000</td>\n",
       "      <td>0.003580</td>\n",
       "      <td>0.000022</td>\n",
       "      <td>0.001580</td>\n",
       "      <td>0.001820</td>\n",
       "      <td>...</td>\n",
       "      <td>0.175000</td>\n",
       "      <td>0.009280</td>\n",
       "      <td>0.010790</td>\n",
       "      <td>0.015665</td>\n",
       "      <td>0.027830</td>\n",
       "      <td>0.010955</td>\n",
       "      <td>19.406000</td>\n",
       "      <td>0.469785</td>\n",
       "      <td>0.596180</td>\n",
       "      <td>0.156340</td>\n",
       "    </tr>\n",
       "    <tr>\n",
       "      <td>50%</td>\n",
       "      <td>22.000000</td>\n",
       "      <td>65.000000</td>\n",
       "      <td>0.000000</td>\n",
       "      <td>91.523000</td>\n",
       "      <td>20.871000</td>\n",
       "      <td>27.576000</td>\n",
       "      <td>0.004900</td>\n",
       "      <td>0.000035</td>\n",
       "      <td>0.002250</td>\n",
       "      <td>0.002490</td>\n",
       "      <td>...</td>\n",
       "      <td>0.253000</td>\n",
       "      <td>0.013700</td>\n",
       "      <td>0.015940</td>\n",
       "      <td>0.022710</td>\n",
       "      <td>0.041110</td>\n",
       "      <td>0.018448</td>\n",
       "      <td>21.920000</td>\n",
       "      <td>0.542250</td>\n",
       "      <td>0.643600</td>\n",
       "      <td>0.205500</td>\n",
       "    </tr>\n",
       "    <tr>\n",
       "      <td>75%</td>\n",
       "      <td>33.000000</td>\n",
       "      <td>72.000000</td>\n",
       "      <td>1.000000</td>\n",
       "      <td>138.445000</td>\n",
       "      <td>27.596500</td>\n",
       "      <td>36.399000</td>\n",
       "      <td>0.006800</td>\n",
       "      <td>0.000053</td>\n",
       "      <td>0.003290</td>\n",
       "      <td>0.003460</td>\n",
       "      <td>...</td>\n",
       "      <td>0.365000</td>\n",
       "      <td>0.020575</td>\n",
       "      <td>0.023755</td>\n",
       "      <td>0.032715</td>\n",
       "      <td>0.061735</td>\n",
       "      <td>0.031463</td>\n",
       "      <td>24.444000</td>\n",
       "      <td>0.614045</td>\n",
       "      <td>0.711335</td>\n",
       "      <td>0.264490</td>\n",
       "    </tr>\n",
       "    <tr>\n",
       "      <td>max</td>\n",
       "      <td>42.000000</td>\n",
       "      <td>85.000000</td>\n",
       "      <td>1.000000</td>\n",
       "      <td>215.490000</td>\n",
       "      <td>39.511000</td>\n",
       "      <td>54.992000</td>\n",
       "      <td>0.099990</td>\n",
       "      <td>0.000446</td>\n",
       "      <td>0.057540</td>\n",
       "      <td>0.069560</td>\n",
       "      <td>...</td>\n",
       "      <td>2.107000</td>\n",
       "      <td>0.162670</td>\n",
       "      <td>0.167020</td>\n",
       "      <td>0.275460</td>\n",
       "      <td>0.488020</td>\n",
       "      <td>0.748260</td>\n",
       "      <td>37.875000</td>\n",
       "      <td>0.966080</td>\n",
       "      <td>0.865600</td>\n",
       "      <td>0.731730</td>\n",
       "    </tr>\n",
       "  </tbody>\n",
       "</table>\n",
       "<p>8 rows × 22 columns</p>\n",
       "</div>"
      ],
      "text/plain": [
       "            status          age          sex    test_time  motor_UPDRS  \\\n",
       "count  5875.000000  5875.000000  5875.000000  5875.000000  5875.000000   \n",
       "mean     21.494128    64.804936     0.317787    92.863722    21.296229   \n",
       "std      12.372279     8.821524     0.465656    53.445602     8.129282   \n",
       "min       1.000000    36.000000     0.000000    -4.262500     5.037700   \n",
       "25%      10.000000    58.000000     0.000000    46.847500    15.000000   \n",
       "50%      22.000000    65.000000     0.000000    91.523000    20.871000   \n",
       "75%      33.000000    72.000000     1.000000   138.445000    27.596500   \n",
       "max      42.000000    85.000000     1.000000   215.490000    39.511000   \n",
       "\n",
       "       total_UPDRS    Jitter(%)  Jitter(Abs)   Jitter:RAP  Jitter:PPQ5  ...  \\\n",
       "count  5875.000000  5875.000000  5875.000000  5875.000000  5875.000000  ...   \n",
       "mean     29.018942     0.006154     0.000044     0.002987     0.003277  ...   \n",
       "std      10.700283     0.005624     0.000036     0.003124     0.003732  ...   \n",
       "min       7.000000     0.000830     0.000002     0.000330     0.000430  ...   \n",
       "25%      21.371000     0.003580     0.000022     0.001580     0.001820  ...   \n",
       "50%      27.576000     0.004900     0.000035     0.002250     0.002490  ...   \n",
       "75%      36.399000     0.006800     0.000053     0.003290     0.003460  ...   \n",
       "max      54.992000     0.099990     0.000446     0.057540     0.069560  ...   \n",
       "\n",
       "       Shimmer(dB)  Shimmer:APQ3  Shimmer:APQ5  Shimmer:APQ11  Shimmer:DDA  \\\n",
       "count  5875.000000   5875.000000   5875.000000    5875.000000  5875.000000   \n",
       "mean      0.310960      0.017156      0.020144       0.027481     0.051467   \n",
       "std       0.230254      0.013237      0.016664       0.019986     0.039711   \n",
       "min       0.026000      0.001610      0.001940       0.002490     0.004840   \n",
       "25%       0.175000      0.009280      0.010790       0.015665     0.027830   \n",
       "50%       0.253000      0.013700      0.015940       0.022710     0.041110   \n",
       "75%       0.365000      0.020575      0.023755       0.032715     0.061735   \n",
       "max       2.107000      0.162670      0.167020       0.275460     0.488020   \n",
       "\n",
       "               NHR          HNR         RPDE          DFA          PPE  \n",
       "count  5875.000000  5875.000000  5875.000000  5875.000000  5875.000000  \n",
       "mean      0.032120    21.679495     0.541473     0.653240     0.219589  \n",
       "std       0.059692     4.291096     0.100986     0.070902     0.091498  \n",
       "min       0.000286     1.659000     0.151020     0.514040     0.021983  \n",
       "25%       0.010955    19.406000     0.469785     0.596180     0.156340  \n",
       "50%       0.018448    21.920000     0.542250     0.643600     0.205500  \n",
       "75%       0.031463    24.444000     0.614045     0.711335     0.264490  \n",
       "max       0.748260    37.875000     0.966080     0.865600     0.731730  \n",
       "\n",
       "[8 rows x 22 columns]"
      ]
     },
     "execution_count": 86,
     "metadata": {},
     "output_type": "execute_result"
    }
   ],
   "source": [
    "data.describe()"
   ]
  },
  {
   "cell_type": "code",
   "execution_count": 87,
   "metadata": {},
   "outputs": [],
   "source": [
    "data[\"status\"] %= 2"
   ]
  },
  {
   "cell_type": "markdown",
   "metadata": {},
   "source": [
    "# Visualization"
   ]
  },
  {
   "cell_type": "code",
   "execution_count": 88,
   "metadata": {},
   "outputs": [
    {
     "data": {
      "text/plain": [
       "Text(0.5, 1.0, 'status vs DFA')"
      ]
     },
     "execution_count": 88,
     "metadata": {},
     "output_type": "execute_result"
    },
    {
     "data": {
      "image/png": "[encoded data removed]",
      "text/plain": [
       "<Figure size 1008x576 with 2 Axes>"
      ]
     },
     "metadata": {},
     "output_type": "display_data"
    }
   ],
   "source": [
    "fig, (axis1, axis2) = plt.subplots(1,2,figsize=(14,8))\n",
    "\n",
    "sns.violinplot(x=\"status\", y=\"RPDE\", data=data, ax=axis1, palette=\"Set2\")\n",
    "axis1.set_title(\"status vs RPDE\")\n",
    "\n",
    "sns.violinplot(x=\"status\", y=\"DFA\", data=data, ax=axis2, palette=\"Set3\")\n",
    "axis2.set_title(\"status vs DFA\")"
   ]
  },
  {
   "cell_type": "code",
   "execution_count": 89,
   "metadata": {},
   "outputs": [
    {
     "data": {
      "text/plain": [
       "Text(0.5, 1.0, 'status vs HNR')"
      ]
     },
     "execution_count": 89,
     "metadata": {},
     "output_type": "execute_result"
    },
    {
     "data": {
      "image/png": "[encoded data removed]",
      "text/plain": [
       "<Figure size 1008x576 with 2 Axes>"
      ]
     },
     "metadata": {},
     "output_type": "display_data"
    }
   ],
   "source": [
    "fig, (axis1, axis2) = plt.subplots(1,2,figsize=(14,8))\n",
    "\n",
    "sns.boxplot(x=\"status\", y=\"NHR\", data=data, ax=axis1)\n",
    "axis1.set_title(\"status vs NHR\")\n",
    "\n",
    "sns.boxplot(x=\"status\", y=\"HNR\", data=data, ax=axis2, palette=\"Set2\")\n",
    "axis2.set_title(\"status vs HNR\")"
   ]
  },
  {
   "cell_type": "markdown",
   "metadata": {},
   "source": [
    "# Steps for building a preparing a Model in Machine Learning"
   ]
  },
  {
   "cell_type": "markdown",
   "metadata": {},
   "source": [
    "## Step 1 Data preprocessing"
   ]
  },
  {
   "cell_type": "markdown",
   "metadata": {},
   "source": [
    "Steps that we need to do with this data before doing the prediction part:\n",
    "    1. Split data to Features and labels\n",
    "    2. Scale features to the same scale\n",
    "    3. Split data into training and testing portion"
   ]
  },
  {
   "cell_type": "markdown",
   "metadata": {},
   "source": [
    "###  Step 1.1 Features vs Labels"
   ]
  },
  {
   "cell_type": "code",
   "execution_count": 90,
   "metadata": {},
   "outputs": [
    {
     "name": "stdout",
     "output_type": "stream",
     "text": [
      "[ 1  1  1 ... 42 42 42]\n"
     ]
    }
   ],
   "source": [
    "labels = parkinson_data.iloc[:, 0].values\n",
    "features = parkinson_data.iloc[:, 1:].values\n",
    "print(labels)"
   ]
  },
  {
   "cell_type": "code",
   "execution_count": 91,
   "metadata": {},
   "outputs": [
    {
     "name": "stdout",
     "output_type": "stream",
     "text": [
      "(5875, 21)\n",
      "1\n"
     ]
    }
   ],
   "source": [
    "print(features.shape)\n",
    "print(labels[0])"
   ]
  },
  {
   "cell_type": "markdown",
   "metadata": {},
   "source": [
    "### Step 1.2 Scale data"
   ]
  },
  {
   "cell_type": "code",
   "execution_count": 92,
   "metadata": {},
   "outputs": [],
   "source": [
    "from sklearn.preprocessing import StandardScaler"
   ]
  },
  {
   "cell_type": "code",
   "execution_count": 93,
   "metadata": {},
   "outputs": [],
   "source": [
    "scaler = StandardScaler()\n",
    "scled_features = scaler.fit_transform(features)"
   ]
  },
  {
   "cell_type": "markdown",
   "metadata": {},
   "source": [
    "### Step 1.3 Splitting data into Training and test portions"
   ]
  },
  {
   "cell_type": "code",
   "execution_count": 94,
   "metadata": {},
   "outputs": [],
   "source": [
    "from sklearn.model_selection import train_test_split"
   ]
  },
  {
   "cell_type": "code",
   "execution_count": 95,
   "metadata": {},
   "outputs": [],
   "source": [
    "X_train, X_test, y_train, y_test = train_test_split(scled_features, labels, test_size=0.3)"
   ]
  },
  {
   "cell_type": "code",
   "execution_count": 96,
   "metadata": {},
   "outputs": [
    {
     "name": "stdout",
     "output_type": "stream",
     "text": [
      "X_train shape = (4112, 21)\n",
      "y_train shape = (4112,)\n",
      "X_test shape =  (1763, 21)\n",
      "y_test shape =  (1763,)\n"
     ]
    }
   ],
   "source": [
    "print(\"X_train shape = {}\".format(X_train.shape))\n",
    "print(\"y_train shape = {}\".format(y_train.shape))\n",
    "print(\"X_test shape =  {}\".format(X_test.shape))\n",
    "print(\"y_test shape =  {}\".format(y_test.shape))"
   ]
  },
  {
   "cell_type": "markdown",
   "metadata": {},
   "source": [
    "## Step 2 Applying Classification Algorithms"
   ]
  },
  {
   "cell_type": "markdown",
   "metadata": {},
   "source": [
    "### Step 2.1 KNN Algorithm"
   ]
  },
  {
   "cell_type": "code",
   "execution_count": 97,
   "metadata": {},
   "outputs": [],
   "source": [
    "from sklearn.metrics import accuracy_score\n",
    "from sklearn.model_selection import GridSearchCV\n",
    "from sklearn.model_selection import cross_val_score"
   ]
  },
  {
   "cell_type": "code",
   "execution_count": 98,
   "metadata": {},
   "outputs": [],
   "source": [
    "from sklearn.neighbors import KNeighborsClassifier"
   ]
  },
  {
   "cell_type": "code",
   "execution_count": 99,
   "metadata": {},
   "outputs": [
    {
     "data": {
      "text/plain": [
       "KNeighborsClassifier(algorithm='auto', leaf_size=30, metric='minkowski',\n",
       "                     metric_params=None, n_jobs=None, n_neighbors=5, p=2,\n",
       "                     weights='uniform')"
      ]
     },
     "execution_count": 99,
     "metadata": {},
     "output_type": "execute_result"
    }
   ],
   "source": [
    "knn = KNeighborsClassifier()\n",
    "knn.fit(X_train, y_train)"
   ]
  },
  {
   "cell_type": "code",
   "execution_count": 100,
   "metadata": {},
   "outputs": [
    {
     "name": "stdout",
     "output_type": "stream",
     "text": [
      "KNN with k=5 got 91.37833238797505% accuracy on the test set.\n"
     ]
    }
   ],
   "source": [
    "print(\"KNN with k=5 got {}% accuracy on the test set.\".format(accuracy_score(y_test, knn.predict(X_test))*100))"
   ]
  },
  {
   "cell_type": "markdown",
   "metadata": {},
   "source": [
    "### Step 2.2 KNN Grid search"
   ]
  },
  {
   "cell_type": "code",
   "execution_count": 101,
   "metadata": {},
   "outputs": [],
   "source": [
    "params_dict = {'n_neighbors':[3, 5, 9, 15], 'p':[1, 2, 3], 'algorithm':['auto', 'ball_tree', 'kd_tree', 'brute']}\n",
    "gs = GridSearchCV(knn, param_grid=params_dict, verbose=10, cv=10)"
   ]
  },
  {
   "cell_type": "code",
   "execution_count": 102,
   "metadata": {},
   "outputs": [
    {
     "name": "stdout",
     "output_type": "stream",
     "text": [
      "Fitting 10 folds for each of 48 candidates, totalling 480 fits\n",
      "[CV] algorithm=auto, n_neighbors=3, p=1 ..............................\n",
      "[CV] .. algorithm=auto, n_neighbors=3, p=1, score=0.896, total=   0.1s\n",
      "[CV] algorithm=auto, n_neighbors=3, p=1 ..............................\n",
      "[CV] .. algorithm=auto, n_neighbors=3, p=1, score=0.886, total=   0.1s\n",
      "[CV] algorithm=auto, n_neighbors=3, p=1 ..............................\n",
      "[CV] .. algorithm=auto, n_neighbors=3, p=1, score=0.900, total=   0.1s\n",
      "[CV] algorithm=auto, n_neighbors=3, p=1 ..............................\n"
     ]
    },
    {
     "name": "stderr",
     "output_type": "stream",
     "text": [
      "[Parallel(n_jobs=1)]: Using backend SequentialBackend with 1 concurrent workers.\n",
      "[Parallel(n_jobs=1)]: Done   1 out of   1 | elapsed:    0.0s remaining:    0.0s\n",
      "[Parallel(n_jobs=1)]: Done   2 out of   2 | elapsed:    0.0s remaining:    0.0s\n",
      "[Parallel(n_jobs=1)]: Done   3 out of   3 | elapsed:    0.1s remaining:    0.0s\n"
     ]
    },
    {
     "name": "stdout",
     "output_type": "stream",
     "text": [
      "[CV] .. algorithm=auto, n_neighbors=3, p=1, score=0.927, total=   0.1s\n",
      "[CV] algorithm=auto, n_neighbors=3, p=1 ..............................\n",
      "[CV] .. algorithm=auto, n_neighbors=3, p=1, score=0.922, total=   0.1s\n",
      "[CV] algorithm=auto, n_neighbors=3, p=1 ..............................\n",
      "[CV] .. algorithm=auto, n_neighbors=3, p=1, score=0.910, total=   0.1s\n",
      "[CV] algorithm=auto, n_neighbors=3, p=1 ..............................\n",
      "[CV] .. algorithm=auto, n_neighbors=3, p=1, score=0.942, total=   0.1s\n",
      "[CV] algorithm=auto, n_neighbors=3, p=1 ..............................\n"
     ]
    },
    {
     "name": "stderr",
     "output_type": "stream",
     "text": [
      "[Parallel(n_jobs=1)]: Done   4 out of   4 | elapsed:    0.1s remaining:    0.0s\n",
      "[Parallel(n_jobs=1)]: Done   5 out of   5 | elapsed:    0.2s remaining:    0.0s\n",
      "[Parallel(n_jobs=1)]: Done   6 out of   6 | elapsed:    0.2s remaining:    0.0s\n",
      "[Parallel(n_jobs=1)]: Done   7 out of   7 | elapsed:    0.3s remaining:    0.0s\n"
     ]
    },
    {
     "name": "stdout",
     "output_type": "stream",
     "text": [
      "[CV] .. algorithm=auto, n_neighbors=3, p=1, score=0.932, total=   0.1s\n",
      "[CV] algorithm=auto, n_neighbors=3, p=1 ..............................\n",
      "[CV] .. algorithm=auto, n_neighbors=3, p=1, score=0.939, total=   0.1s\n",
      "[CV] algorithm=auto, n_neighbors=3, p=1 ..............................\n",
      "[CV] .. algorithm=auto, n_neighbors=3, p=1, score=0.934, total=   0.1s\n",
      "[CV] algorithm=auto, n_neighbors=3, p=2 ..............................\n",
      "[CV] .. algorithm=auto, n_neighbors=3, p=2, score=0.896, total=   0.0s\n",
      "[CV] algorithm=auto, n_neighbors=3, p=2 ..............................\n"
     ]
    },
    {
     "name": "stderr",
     "output_type": "stream",
     "text": [
      "[Parallel(n_jobs=1)]: Done   8 out of   8 | elapsed:    0.3s remaining:    0.0s\n",
      "[Parallel(n_jobs=1)]: Done   9 out of   9 | elapsed:    0.4s remaining:    0.0s\n"
     ]
    },
    {
     "name": "stdout",
     "output_type": "stream",
     "text": [
      "[CV] .. algorithm=auto, n_neighbors=3, p=2, score=0.883, total=   0.1s\n",
      "[CV] algorithm=auto, n_neighbors=3, p=2 ..............................\n",
      "[CV] .. algorithm=auto, n_neighbors=3, p=2, score=0.881, total=   0.1s\n",
      "[CV] algorithm=auto, n_neighbors=3, p=2 ..............................\n",
      "[CV] .. algorithm=auto, n_neighbors=3, p=2, score=0.903, total=   0.0s\n",
      "[CV] algorithm=auto, n_neighbors=3, p=2 ..............................\n",
      "[CV] .. algorithm=auto, n_neighbors=3, p=2, score=0.934, total=   0.0s\n",
      "[CV] algorithm=auto, n_neighbors=3, p=2 ..............................\n",
      "[CV] .. algorithm=auto, n_neighbors=3, p=2, score=0.898, total=   0.1s\n",
      "[CV] algorithm=auto, n_neighbors=3, p=2 ..............................\n",
      "[CV] .. algorithm=auto, n_neighbors=3, p=2, score=0.925, total=   0.0s\n",
      "[CV] algorithm=auto, n_neighbors=3, p=2 ..............................\n",
      "[CV] .. algorithm=auto, n_neighbors=3, p=2, score=0.917, total=   0.0s\n",
      "[CV] algorithm=auto, n_neighbors=3, p=2 ..............................\n",
      "[CV] .. algorithm=auto, n_neighbors=3, p=2, score=0.934, total=   0.0s\n",
      "[CV] algorithm=auto, n_neighbors=3, p=2 ..............................\n",
      "[CV] .. algorithm=auto, n_neighbors=3, p=2, score=0.903, total=   0.1s\n",
      "[CV] algorithm=auto, n_neighbors=3, p=3 ..............................\n",
      "[CV] .. algorithm=auto, n_neighbors=3, p=3, score=0.881, total=   0.3s\n",
      "[CV] algorithm=auto, n_neighbors=3, p=3 ..............................\n",
      "[CV] .. algorithm=auto, n_neighbors=3, p=3, score=0.876, total=   0.4s\n",
      "[CV] algorithm=auto, n_neighbors=3, p=3 ..............................\n",
      "[CV] .. algorithm=auto, n_neighbors=3, p=3, score=0.873, total=   0.3s\n",
      "[CV] algorithm=auto, n_neighbors=3, p=3 ..............................\n",
      "[CV] .. algorithm=auto, n_neighbors=3, p=3, score=0.888, total=   0.3s\n",
      "[CV] algorithm=auto, n_neighbors=3, p=3 ..............................\n",
      "[CV] .. algorithm=auto, n_neighbors=3, p=3, score=0.908, total=   0.3s\n",
      "[CV] algorithm=auto, n_neighbors=3, p=3 ..............................\n",
      "[CV] .. algorithm=auto, n_neighbors=3, p=3, score=0.891, total=   0.3s\n",
      "[CV] algorithm=auto, n_neighbors=3, p=3 ..............................\n",
      "[CV] .. algorithm=auto, n_neighbors=3, p=3, score=0.908, total=   0.3s\n",
      "[CV] algorithm=auto, n_neighbors=3, p=3 ..............................\n",
      "[CV] .. algorithm=auto, n_neighbors=3, p=3, score=0.912, total=   0.3s\n",
      "[CV] algorithm=auto, n_neighbors=3, p=3 ..............................\n",
      "[CV] .. algorithm=auto, n_neighbors=3, p=3, score=0.927, total=   0.3s\n",
      "[CV] algorithm=auto, n_neighbors=3, p=3 ..............................\n",
      "[CV] .. algorithm=auto, n_neighbors=3, p=3, score=0.876, total=   0.3s\n",
      "[CV] algorithm=auto, n_neighbors=5, p=1 ..............................\n",
      "[CV] .. algorithm=auto, n_neighbors=5, p=1, score=0.903, total=   0.1s\n",
      "[CV] algorithm=auto, n_neighbors=5, p=1 ..............................\n",
      "[CV] .. algorithm=auto, n_neighbors=5, p=1, score=0.898, total=   0.1s\n",
      "[CV] algorithm=auto, n_neighbors=5, p=1 ..............................\n",
      "[CV] .. algorithm=auto, n_neighbors=5, p=1, score=0.905, total=   0.1s\n",
      "[CV] algorithm=auto, n_neighbors=5, p=1 ..............................\n",
      "[CV] .. algorithm=auto, n_neighbors=5, p=1, score=0.917, total=   0.1s\n",
      "[CV] algorithm=auto, n_neighbors=5, p=1 ..............................\n",
      "[CV] .. algorithm=auto, n_neighbors=5, p=1, score=0.934, total=   0.1s\n",
      "[CV] algorithm=auto, n_neighbors=5, p=1 ..............................\n",
      "[CV] .. algorithm=auto, n_neighbors=5, p=1, score=0.912, total=   0.1s\n",
      "[CV] algorithm=auto, n_neighbors=5, p=1 ..............................\n",
      "[CV] .. algorithm=auto, n_neighbors=5, p=1, score=0.937, total=   0.1s\n",
      "[CV] algorithm=auto, n_neighbors=5, p=1 ..............................\n",
      "[CV] .. algorithm=auto, n_neighbors=5, p=1, score=0.920, total=   0.1s\n",
      "[CV] algorithm=auto, n_neighbors=5, p=1 ..............................\n",
      "[CV] .. algorithm=auto, n_neighbors=5, p=1, score=0.934, total=   0.1s\n",
      "[CV] algorithm=auto, n_neighbors=5, p=1 ..............................\n",
      "[CV] .. algorithm=auto, n_neighbors=5, p=1, score=0.925, total=   0.1s\n",
      "[CV] algorithm=auto, n_neighbors=5, p=2 ..............................\n",
      "[CV] .. algorithm=auto, n_neighbors=5, p=2, score=0.893, total=   0.1s\n",
      "[CV] algorithm=auto, n_neighbors=5, p=2 ..............................\n",
      "[CV] .. algorithm=auto, n_neighbors=5, p=2, score=0.867, total=   0.1s\n",
      "[CV] algorithm=auto, n_neighbors=5, p=2 ..............................\n",
      "[CV] .. algorithm=auto, n_neighbors=5, p=2, score=0.883, total=   0.1s\n",
      "[CV] algorithm=auto, n_neighbors=5, p=2 ..............................\n",
      "[CV] .. algorithm=auto, n_neighbors=5, p=2, score=0.891, total=   0.1s\n",
      "[CV] algorithm=auto, n_neighbors=5, p=2 ..............................\n",
      "[CV] .. algorithm=auto, n_neighbors=5, p=2, score=0.939, total=   0.1s\n",
      "[CV] algorithm=auto, n_neighbors=5, p=2 ..............................\n",
      "[CV] .. algorithm=auto, n_neighbors=5, p=2, score=0.891, total=   0.1s\n",
      "[CV] algorithm=auto, n_neighbors=5, p=2 ..............................\n",
      "[CV] .. algorithm=auto, n_neighbors=5, p=2, score=0.910, total=   0.1s\n",
      "[CV] algorithm=auto, n_neighbors=5, p=2 ..............................\n",
      "[CV] .. algorithm=auto, n_neighbors=5, p=2, score=0.925, total=   0.1s\n",
      "[CV] algorithm=auto, n_neighbors=5, p=2 ..............................\n",
      "[CV] .. algorithm=auto, n_neighbors=5, p=2, score=0.920, total=   0.1s\n",
      "[CV] algorithm=auto, n_neighbors=5, p=2 ..............................\n",
      "[CV] .. algorithm=auto, n_neighbors=5, p=2, score=0.895, total=   0.1s\n",
      "[CV] algorithm=auto, n_neighbors=5, p=3 ..............................\n",
      "[CV] .. algorithm=auto, n_neighbors=5, p=3, score=0.876, total=   0.4s\n",
      "[CV] algorithm=auto, n_neighbors=5, p=3 ..............................\n",
      "[CV] .. algorithm=auto, n_neighbors=5, p=3, score=0.862, total=   0.4s\n",
      "[CV] algorithm=auto, n_neighbors=5, p=3 ..............................\n",
      "[CV] .. algorithm=auto, n_neighbors=5, p=3, score=0.861, total=   0.4s\n",
      "[CV] algorithm=auto, n_neighbors=5, p=3 ..............................\n",
      "[CV] .. algorithm=auto, n_neighbors=5, p=3, score=0.864, total=   0.4s\n",
      "[CV] algorithm=auto, n_neighbors=5, p=3 ..............................\n",
      "[CV] .. algorithm=auto, n_neighbors=5, p=3, score=0.903, total=   0.4s\n",
      "[CV] algorithm=auto, n_neighbors=5, p=3 ..............................\n",
      "[CV] .. algorithm=auto, n_neighbors=5, p=3, score=0.886, total=   0.4s\n",
      "[CV] algorithm=auto, n_neighbors=5, p=3 ..............................\n",
      "[CV] .. algorithm=auto, n_neighbors=5, p=3, score=0.898, total=   0.4s\n",
      "[CV] algorithm=auto, n_neighbors=5, p=3 ..............................\n",
      "[CV] .. algorithm=auto, n_neighbors=5, p=3, score=0.898, total=   0.4s\n",
      "[CV] algorithm=auto, n_neighbors=5, p=3 ..............................\n",
      "[CV] .. algorithm=auto, n_neighbors=5, p=3, score=0.915, total=   0.4s\n",
      "[CV] algorithm=auto, n_neighbors=5, p=3 ..............................\n",
      "[CV] .. algorithm=auto, n_neighbors=5, p=3, score=0.881, total=   0.4s\n",
      "[CV] algorithm=auto, n_neighbors=9, p=1 ..............................\n",
      "[CV] .. algorithm=auto, n_neighbors=9, p=1, score=0.896, total=   0.1s\n",
      "[CV] algorithm=auto, n_neighbors=9, p=1 ..............................\n",
      "[CV] .. algorithm=auto, n_neighbors=9, p=1, score=0.879, total=   0.1s\n",
      "[CV] algorithm=auto, n_neighbors=9, p=1 ..............................\n",
      "[CV] .. algorithm=auto, n_neighbors=9, p=1, score=0.895, total=   0.1s\n",
      "[CV] algorithm=auto, n_neighbors=9, p=1 ..............................\n",
      "[CV] .. algorithm=auto, n_neighbors=9, p=1, score=0.912, total=   0.1s\n",
      "[CV] algorithm=auto, n_neighbors=9, p=1 ..............................\n",
      "[CV] .. algorithm=auto, n_neighbors=9, p=1, score=0.932, total=   0.1s\n",
      "[CV] algorithm=auto, n_neighbors=9, p=1 ..............................\n",
      "[CV] .. algorithm=auto, n_neighbors=9, p=1, score=0.900, total=   0.1s\n",
      "[CV] algorithm=auto, n_neighbors=9, p=1 ..............................\n",
      "[CV] .. algorithm=auto, n_neighbors=9, p=1, score=0.934, total=   0.1s\n",
      "[CV] algorithm=auto, n_neighbors=9, p=1 ..............................\n",
      "[CV] .. algorithm=auto, n_neighbors=9, p=1, score=0.910, total=   0.1s\n",
      "[CV] algorithm=auto, n_neighbors=9, p=1 ..............................\n",
      "[CV] .. algorithm=auto, n_neighbors=9, p=1, score=0.927, total=   0.1s\n",
      "[CV] algorithm=auto, n_neighbors=9, p=1 ..............................\n",
      "[CV] .. algorithm=auto, n_neighbors=9, p=1, score=0.915, total=   0.1s\n",
      "[CV] algorithm=auto, n_neighbors=9, p=2 ..............................\n"
     ]
    },
    {
     "name": "stdout",
     "output_type": "stream",
     "text": [
      "[CV] .. algorithm=auto, n_neighbors=9, p=2, score=0.888, total=   0.1s\n",
      "[CV] algorithm=auto, n_neighbors=9, p=2 ..............................\n",
      "[CV] .. algorithm=auto, n_neighbors=9, p=2, score=0.867, total=   0.1s\n",
      "[CV] algorithm=auto, n_neighbors=9, p=2 ..............................\n",
      "[CV] .. algorithm=auto, n_neighbors=9, p=2, score=0.888, total=   0.1s\n",
      "[CV] algorithm=auto, n_neighbors=9, p=2 ..............................\n",
      "[CV] .. algorithm=auto, n_neighbors=9, p=2, score=0.881, total=   0.1s\n",
      "[CV] algorithm=auto, n_neighbors=9, p=2 ..............................\n",
      "[CV] .. algorithm=auto, n_neighbors=9, p=2, score=0.903, total=   0.1s\n",
      "[CV] algorithm=auto, n_neighbors=9, p=2 ..............................\n",
      "[CV] .. algorithm=auto, n_neighbors=9, p=2, score=0.878, total=   0.1s\n",
      "[CV] algorithm=auto, n_neighbors=9, p=2 ..............................\n",
      "[CV] .. algorithm=auto, n_neighbors=9, p=2, score=0.920, total=   0.1s\n",
      "[CV] algorithm=auto, n_neighbors=9, p=2 ..............................\n",
      "[CV] .. algorithm=auto, n_neighbors=9, p=2, score=0.905, total=   0.1s\n",
      "[CV] algorithm=auto, n_neighbors=9, p=2 ..............................\n",
      "[CV] .. algorithm=auto, n_neighbors=9, p=2, score=0.912, total=   0.1s\n",
      "[CV] algorithm=auto, n_neighbors=9, p=2 ..............................\n",
      "[CV] .. algorithm=auto, n_neighbors=9, p=2, score=0.895, total=   0.1s\n",
      "[CV] algorithm=auto, n_neighbors=9, p=3 ..............................\n",
      "[CV] .. algorithm=auto, n_neighbors=9, p=3, score=0.881, total=   0.4s\n",
      "[CV] algorithm=auto, n_neighbors=9, p=3 ..............................\n",
      "[CV] .. algorithm=auto, n_neighbors=9, p=3, score=0.847, total=   0.5s\n",
      "[CV] algorithm=auto, n_neighbors=9, p=3 ..............................\n",
      "[CV] .. algorithm=auto, n_neighbors=9, p=3, score=0.871, total=   0.4s\n",
      "[CV] algorithm=auto, n_neighbors=9, p=3 ..............................\n",
      "[CV] .. algorithm=auto, n_neighbors=9, p=3, score=0.869, total=   0.5s\n",
      "[CV] algorithm=auto, n_neighbors=9, p=3 ..............................\n",
      "[CV] .. algorithm=auto, n_neighbors=9, p=3, score=0.900, total=   0.5s\n",
      "[CV] algorithm=auto, n_neighbors=9, p=3 ..............................\n",
      "[CV] .. algorithm=auto, n_neighbors=9, p=3, score=0.861, total=   0.4s\n",
      "[CV] algorithm=auto, n_neighbors=9, p=3 ..............................\n",
      "[CV] .. algorithm=auto, n_neighbors=9, p=3, score=0.891, total=   0.4s\n",
      "[CV] algorithm=auto, n_neighbors=9, p=3 ..............................\n",
      "[CV] .. algorithm=auto, n_neighbors=9, p=3, score=0.898, total=   0.4s\n",
      "[CV] algorithm=auto, n_neighbors=9, p=3 ..............................\n",
      "[CV] .. algorithm=auto, n_neighbors=9, p=3, score=0.893, total=   0.4s\n",
      "[CV] algorithm=auto, n_neighbors=9, p=3 ..............................\n",
      "[CV] .. algorithm=auto, n_neighbors=9, p=3, score=0.873, total=   0.5s\n",
      "[CV] algorithm=auto, n_neighbors=15, p=1 .............................\n",
      "[CV] . algorithm=auto, n_neighbors=15, p=1, score=0.891, total=   0.1s\n",
      "[CV] algorithm=auto, n_neighbors=15, p=1 .............................\n",
      "[CV] . algorithm=auto, n_neighbors=15, p=1, score=0.876, total=   0.1s\n",
      "[CV] algorithm=auto, n_neighbors=15, p=1 .............................\n",
      "[CV] . algorithm=auto, n_neighbors=15, p=1, score=0.886, total=   0.1s\n",
      "[CV] algorithm=auto, n_neighbors=15, p=1 .............................\n",
      "[CV] . algorithm=auto, n_neighbors=15, p=1, score=0.886, total=   0.1s\n",
      "[CV] algorithm=auto, n_neighbors=15, p=1 .............................\n",
      "[CV] . algorithm=auto, n_neighbors=15, p=1, score=0.917, total=   0.1s\n",
      "[CV] algorithm=auto, n_neighbors=15, p=1 .............................\n",
      "[CV] . algorithm=auto, n_neighbors=15, p=1, score=0.895, total=   0.1s\n",
      "[CV] algorithm=auto, n_neighbors=15, p=1 .............................\n",
      "[CV] . algorithm=auto, n_neighbors=15, p=1, score=0.922, total=   0.1s\n",
      "[CV] algorithm=auto, n_neighbors=15, p=1 .............................\n",
      "[CV] . algorithm=auto, n_neighbors=15, p=1, score=0.912, total=   0.1s\n",
      "[CV] algorithm=auto, n_neighbors=15, p=1 .............................\n",
      "[CV] . algorithm=auto, n_neighbors=15, p=1, score=0.905, total=   0.2s\n",
      "[CV] algorithm=auto, n_neighbors=15, p=1 .............................\n",
      "[CV] . algorithm=auto, n_neighbors=15, p=1, score=0.888, total=   0.1s\n",
      "[CV] algorithm=auto, n_neighbors=15, p=2 .............................\n",
      "[CV] . algorithm=auto, n_neighbors=15, p=2, score=0.874, total=   0.1s\n",
      "[CV] algorithm=auto, n_neighbors=15, p=2 .............................\n",
      "[CV] . algorithm=auto, n_neighbors=15, p=2, score=0.850, total=   0.1s\n",
      "[CV] algorithm=auto, n_neighbors=15, p=2 .............................\n",
      "[CV] . algorithm=auto, n_neighbors=15, p=2, score=0.869, total=   0.1s\n",
      "[CV] algorithm=auto, n_neighbors=15, p=2 .............................\n",
      "[CV] . algorithm=auto, n_neighbors=15, p=2, score=0.871, total=   0.1s\n",
      "[CV] algorithm=auto, n_neighbors=15, p=2 .............................\n",
      "[CV] . algorithm=auto, n_neighbors=15, p=2, score=0.888, total=   0.1s\n",
      "[CV] algorithm=auto, n_neighbors=15, p=2 .............................\n",
      "[CV] . algorithm=auto, n_neighbors=15, p=2, score=0.864, total=   0.1s\n",
      "[CV] algorithm=auto, n_neighbors=15, p=2 .............................\n",
      "[CV] . algorithm=auto, n_neighbors=15, p=2, score=0.893, total=   0.1s\n",
      "[CV] algorithm=auto, n_neighbors=15, p=2 .............................\n",
      "[CV] . algorithm=auto, n_neighbors=15, p=2, score=0.893, total=   0.2s\n",
      "[CV] algorithm=auto, n_neighbors=15, p=2 .............................\n",
      "[CV] . algorithm=auto, n_neighbors=15, p=2, score=0.903, total=   0.1s\n",
      "[CV] algorithm=auto, n_neighbors=15, p=2 .............................\n",
      "[CV] . algorithm=auto, n_neighbors=15, p=2, score=0.873, total=   0.1s\n",
      "[CV] algorithm=auto, n_neighbors=15, p=3 .............................\n",
      "[CV] . algorithm=auto, n_neighbors=15, p=3, score=0.867, total=   1.1s\n",
      "[CV] algorithm=auto, n_neighbors=15, p=3 .............................\n",
      "[CV] . algorithm=auto, n_neighbors=15, p=3, score=0.823, total=   1.3s\n",
      "[CV] algorithm=auto, n_neighbors=15, p=3 .............................\n",
      "[CV] . algorithm=auto, n_neighbors=15, p=3, score=0.864, total=   1.1s\n",
      "[CV] algorithm=auto, n_neighbors=15, p=3 .............................\n",
      "[CV] . algorithm=auto, n_neighbors=15, p=3, score=0.830, total=   1.1s\n",
      "[CV] algorithm=auto, n_neighbors=15, p=3 .............................\n",
      "[CV] . algorithm=auto, n_neighbors=15, p=3, score=0.881, total=   1.1s\n",
      "[CV] algorithm=auto, n_neighbors=15, p=3 .............................\n",
      "[CV] . algorithm=auto, n_neighbors=15, p=3, score=0.847, total=   1.1s\n",
      "[CV] algorithm=auto, n_neighbors=15, p=3 .............................\n",
      "[CV] . algorithm=auto, n_neighbors=15, p=3, score=0.881, total=   1.1s\n",
      "[CV] algorithm=auto, n_neighbors=15, p=3 .............................\n",
      "[CV] . algorithm=auto, n_neighbors=15, p=3, score=0.886, total=   1.1s\n",
      "[CV] algorithm=auto, n_neighbors=15, p=3 .............................\n",
      "[CV] . algorithm=auto, n_neighbors=15, p=3, score=0.883, total=   1.1s\n",
      "[CV] algorithm=auto, n_neighbors=15, p=3 .............................\n",
      "[CV] . algorithm=auto, n_neighbors=15, p=3, score=0.854, total=   1.1s\n",
      "[CV] algorithm=ball_tree, n_neighbors=3, p=1 .........................\n",
      "[CV]  algorithm=ball_tree, n_neighbors=3, p=1, score=0.896, total=   0.1s\n",
      "[CV] algorithm=ball_tree, n_neighbors=3, p=1 .........................\n",
      "[CV]  algorithm=ball_tree, n_neighbors=3, p=1, score=0.886, total=   0.1s\n",
      "[CV] algorithm=ball_tree, n_neighbors=3, p=1 .........................\n",
      "[CV]  algorithm=ball_tree, n_neighbors=3, p=1, score=0.900, total=   0.1s\n",
      "[CV] algorithm=ball_tree, n_neighbors=3, p=1 .........................\n",
      "[CV]  algorithm=ball_tree, n_neighbors=3, p=1, score=0.927, total=   0.1s\n",
      "[CV] algorithm=ball_tree, n_neighbors=3, p=1 .........................\n",
      "[CV]  algorithm=ball_tree, n_neighbors=3, p=1, score=0.922, total=   0.1s\n",
      "[CV] algorithm=ball_tree, n_neighbors=3, p=1 .........................\n",
      "[CV]  algorithm=ball_tree, n_neighbors=3, p=1, score=0.910, total=   0.1s\n",
      "[CV] algorithm=ball_tree, n_neighbors=3, p=1 .........................\n",
      "[CV]  algorithm=ball_tree, n_neighbors=3, p=1, score=0.942, total=   0.1s\n",
      "[CV] algorithm=ball_tree, n_neighbors=3, p=1 .........................\n",
      "[CV]  algorithm=ball_tree, n_neighbors=3, p=1, score=0.932, total=   0.1s\n",
      "[CV] algorithm=ball_tree, n_neighbors=3, p=1 .........................\n",
      "[CV]  algorithm=ball_tree, n_neighbors=3, p=1, score=0.939, total=   0.1s\n",
      "[CV] algorithm=ball_tree, n_neighbors=3, p=1 .........................\n"
     ]
    },
    {
     "name": "stdout",
     "output_type": "stream",
     "text": [
      "[CV]  algorithm=ball_tree, n_neighbors=3, p=1, score=0.934, total=   0.1s\n",
      "[CV] algorithm=ball_tree, n_neighbors=3, p=2 .........................\n",
      "[CV]  algorithm=ball_tree, n_neighbors=3, p=2, score=0.896, total=   0.1s\n",
      "[CV] algorithm=ball_tree, n_neighbors=3, p=2 .........................\n",
      "[CV]  algorithm=ball_tree, n_neighbors=3, p=2, score=0.883, total=   0.1s\n",
      "[CV] algorithm=ball_tree, n_neighbors=3, p=2 .........................\n",
      "[CV]  algorithm=ball_tree, n_neighbors=3, p=2, score=0.881, total=   0.1s\n",
      "[CV] algorithm=ball_tree, n_neighbors=3, p=2 .........................\n",
      "[CV]  algorithm=ball_tree, n_neighbors=3, p=2, score=0.903, total=   0.1s\n",
      "[CV] algorithm=ball_tree, n_neighbors=3, p=2 .........................\n",
      "[CV]  algorithm=ball_tree, n_neighbors=3, p=2, score=0.934, total=   0.1s\n",
      "[CV] algorithm=ball_tree, n_neighbors=3, p=2 .........................\n",
      "[CV]  algorithm=ball_tree, n_neighbors=3, p=2, score=0.898, total=   0.1s\n",
      "[CV] algorithm=ball_tree, n_neighbors=3, p=2 .........................\n",
      "[CV]  algorithm=ball_tree, n_neighbors=3, p=2, score=0.925, total=   0.1s\n",
      "[CV] algorithm=ball_tree, n_neighbors=3, p=2 .........................\n",
      "[CV]  algorithm=ball_tree, n_neighbors=3, p=2, score=0.917, total=   0.1s\n",
      "[CV] algorithm=ball_tree, n_neighbors=3, p=2 .........................\n",
      "[CV]  algorithm=ball_tree, n_neighbors=3, p=2, score=0.934, total=   0.1s\n",
      "[CV] algorithm=ball_tree, n_neighbors=3, p=2 .........................\n",
      "[CV]  algorithm=ball_tree, n_neighbors=3, p=2, score=0.903, total=   0.1s\n",
      "[CV] algorithm=ball_tree, n_neighbors=3, p=3 .........................\n",
      "[CV]  algorithm=ball_tree, n_neighbors=3, p=3, score=0.881, total=   2.4s\n",
      "[CV] algorithm=ball_tree, n_neighbors=3, p=3 .........................\n",
      "[CV]  algorithm=ball_tree, n_neighbors=3, p=3, score=0.876, total=   2.5s\n",
      "[CV] algorithm=ball_tree, n_neighbors=3, p=3 .........................\n",
      "[CV]  algorithm=ball_tree, n_neighbors=3, p=3, score=0.873, total=   2.4s\n",
      "[CV] algorithm=ball_tree, n_neighbors=3, p=3 .........................\n",
      "[CV]  algorithm=ball_tree, n_neighbors=3, p=3, score=0.888, total=   1.9s\n",
      "[CV] algorithm=ball_tree, n_neighbors=3, p=3 .........................\n",
      "[CV]  algorithm=ball_tree, n_neighbors=3, p=3, score=0.908, total=   1.1s\n",
      "[CV] algorithm=ball_tree, n_neighbors=3, p=3 .........................\n",
      "[CV]  algorithm=ball_tree, n_neighbors=3, p=3, score=0.891, total=   1.1s\n",
      "[CV] algorithm=ball_tree, n_neighbors=3, p=3 .........................\n",
      "[CV]  algorithm=ball_tree, n_neighbors=3, p=3, score=0.908, total=   1.1s\n",
      "[CV] algorithm=ball_tree, n_neighbors=3, p=3 .........................\n",
      "[CV]  algorithm=ball_tree, n_neighbors=3, p=3, score=0.912, total=   1.1s\n",
      "[CV] algorithm=ball_tree, n_neighbors=3, p=3 .........................\n",
      "[CV]  algorithm=ball_tree, n_neighbors=3, p=3, score=0.927, total=   1.1s\n",
      "[CV] algorithm=ball_tree, n_neighbors=3, p=3 .........................\n",
      "[CV]  algorithm=ball_tree, n_neighbors=3, p=3, score=0.876, total=   1.2s\n",
      "[CV] algorithm=ball_tree, n_neighbors=5, p=1 .........................\n",
      "[CV]  algorithm=ball_tree, n_neighbors=5, p=1, score=0.903, total=   0.1s\n",
      "[CV] algorithm=ball_tree, n_neighbors=5, p=1 .........................\n",
      "[CV]  algorithm=ball_tree, n_neighbors=5, p=1, score=0.898, total=   0.1s\n",
      "[CV] algorithm=ball_tree, n_neighbors=5, p=1 .........................\n",
      "[CV]  algorithm=ball_tree, n_neighbors=5, p=1, score=0.905, total=   0.1s\n",
      "[CV] algorithm=ball_tree, n_neighbors=5, p=1 .........................\n",
      "[CV]  algorithm=ball_tree, n_neighbors=5, p=1, score=0.917, total=   0.1s\n",
      "[CV] algorithm=ball_tree, n_neighbors=5, p=1 .........................\n",
      "[CV]  algorithm=ball_tree, n_neighbors=5, p=1, score=0.934, total=   0.1s\n",
      "[CV] algorithm=ball_tree, n_neighbors=5, p=1 .........................\n",
      "[CV]  algorithm=ball_tree, n_neighbors=5, p=1, score=0.912, total=   0.1s\n",
      "[CV] algorithm=ball_tree, n_neighbors=5, p=1 .........................\n",
      "[CV]  algorithm=ball_tree, n_neighbors=5, p=1, score=0.937, total=   0.1s\n",
      "[CV] algorithm=ball_tree, n_neighbors=5, p=1 .........................\n",
      "[CV]  algorithm=ball_tree, n_neighbors=5, p=1, score=0.920, total=   0.1s\n",
      "[CV] algorithm=ball_tree, n_neighbors=5, p=1 .........................\n",
      "[CV]  algorithm=ball_tree, n_neighbors=5, p=1, score=0.934, total=   0.1s\n",
      "[CV] algorithm=ball_tree, n_neighbors=5, p=1 .........................\n",
      "[CV]  algorithm=ball_tree, n_neighbors=5, p=1, score=0.925, total=   0.1s\n",
      "[CV] algorithm=ball_tree, n_neighbors=5, p=2 .........................\n",
      "[CV]  algorithm=ball_tree, n_neighbors=5, p=2, score=0.893, total=   0.1s\n",
      "[CV] algorithm=ball_tree, n_neighbors=5, p=2 .........................\n",
      "[CV]  algorithm=ball_tree, n_neighbors=5, p=2, score=0.867, total=   0.1s\n",
      "[CV] algorithm=ball_tree, n_neighbors=5, p=2 .........................\n",
      "[CV]  algorithm=ball_tree, n_neighbors=5, p=2, score=0.883, total=   0.1s\n",
      "[CV] algorithm=ball_tree, n_neighbors=5, p=2 .........................\n",
      "[CV]  algorithm=ball_tree, n_neighbors=5, p=2, score=0.891, total=   0.1s\n",
      "[CV] algorithm=ball_tree, n_neighbors=5, p=2 .........................\n",
      "[CV]  algorithm=ball_tree, n_neighbors=5, p=2, score=0.939, total=   0.1s\n",
      "[CV] algorithm=ball_tree, n_neighbors=5, p=2 .........................\n",
      "[CV]  algorithm=ball_tree, n_neighbors=5, p=2, score=0.891, total=   0.1s\n",
      "[CV] algorithm=ball_tree, n_neighbors=5, p=2 .........................\n",
      "[CV]  algorithm=ball_tree, n_neighbors=5, p=2, score=0.910, total=   0.1s\n",
      "[CV] algorithm=ball_tree, n_neighbors=5, p=2 .........................\n",
      "[CV]  algorithm=ball_tree, n_neighbors=5, p=2, score=0.925, total=   0.1s\n",
      "[CV] algorithm=ball_tree, n_neighbors=5, p=2 .........................\n",
      "[CV]  algorithm=ball_tree, n_neighbors=5, p=2, score=0.920, total=   0.1s\n",
      "[CV] algorithm=ball_tree, n_neighbors=5, p=2 .........................\n",
      "[CV]  algorithm=ball_tree, n_neighbors=5, p=2, score=0.895, total=   0.1s\n",
      "[CV] algorithm=ball_tree, n_neighbors=5, p=3 .........................\n",
      "[CV]  algorithm=ball_tree, n_neighbors=5, p=3, score=0.876, total=   1.2s\n",
      "[CV] algorithm=ball_tree, n_neighbors=5, p=3 .........................\n",
      "[CV]  algorithm=ball_tree, n_neighbors=5, p=3, score=0.862, total=   1.1s\n",
      "[CV] algorithm=ball_tree, n_neighbors=5, p=3 .........................\n",
      "[CV]  algorithm=ball_tree, n_neighbors=5, p=3, score=0.861, total=   1.1s\n",
      "[CV] algorithm=ball_tree, n_neighbors=5, p=3 .........................\n",
      "[CV]  algorithm=ball_tree, n_neighbors=5, p=3, score=0.864, total=   1.2s\n",
      "[CV] algorithm=ball_tree, n_neighbors=5, p=3 .........................\n",
      "[CV]  algorithm=ball_tree, n_neighbors=5, p=3, score=0.903, total=   1.8s\n",
      "[CV] algorithm=ball_tree, n_neighbors=5, p=3 .........................\n",
      "[CV]  algorithm=ball_tree, n_neighbors=5, p=3, score=0.886, total=   2.5s\n",
      "[CV] algorithm=ball_tree, n_neighbors=5, p=3 .........................\n",
      "[CV]  algorithm=ball_tree, n_neighbors=5, p=3, score=0.898, total=   2.4s\n",
      "[CV] algorithm=ball_tree, n_neighbors=5, p=3 .........................\n",
      "[CV]  algorithm=ball_tree, n_neighbors=5, p=3, score=0.898, total=   2.5s\n",
      "[CV] algorithm=ball_tree, n_neighbors=5, p=3 .........................\n",
      "[CV]  algorithm=ball_tree, n_neighbors=5, p=3, score=0.915, total=   2.4s\n",
      "[CV] algorithm=ball_tree, n_neighbors=5, p=3 .........................\n",
      "[CV]  algorithm=ball_tree, n_neighbors=5, p=3, score=0.881, total=   2.4s\n",
      "[CV] algorithm=ball_tree, n_neighbors=9, p=1 .........................\n",
      "[CV]  algorithm=ball_tree, n_neighbors=9, p=1, score=0.896, total=   0.1s\n",
      "[CV] algorithm=ball_tree, n_neighbors=9, p=1 .........................\n",
      "[CV]  algorithm=ball_tree, n_neighbors=9, p=1, score=0.879, total=   0.1s\n",
      "[CV] algorithm=ball_tree, n_neighbors=9, p=1 .........................\n",
      "[CV]  algorithm=ball_tree, n_neighbors=9, p=1, score=0.895, total=   0.1s\n",
      "[CV] algorithm=ball_tree, n_neighbors=9, p=1 .........................\n",
      "[CV]  algorithm=ball_tree, n_neighbors=9, p=1, score=0.912, total=   0.1s\n",
      "[CV] algorithm=ball_tree, n_neighbors=9, p=1 .........................\n",
      "[CV]  algorithm=ball_tree, n_neighbors=9, p=1, score=0.932, total=   0.1s\n",
      "[CV] algorithm=ball_tree, n_neighbors=9, p=1 .........................\n",
      "[CV]  algorithm=ball_tree, n_neighbors=9, p=1, score=0.900, total=   0.1s\n",
      "[CV] algorithm=ball_tree, n_neighbors=9, p=1 .........................\n",
      "[CV]  algorithm=ball_tree, n_neighbors=9, p=1, score=0.934, total=   0.1s\n",
      "[CV] algorithm=ball_tree, n_neighbors=9, p=1 .........................\n"
     ]
    },
    {
     "name": "stdout",
     "output_type": "stream",
     "text": [
      "[CV]  algorithm=ball_tree, n_neighbors=9, p=1, score=0.910, total=   0.1s\n",
      "[CV] algorithm=ball_tree, n_neighbors=9, p=1 .........................\n",
      "[CV]  algorithm=ball_tree, n_neighbors=9, p=1, score=0.927, total=   0.1s\n",
      "[CV] algorithm=ball_tree, n_neighbors=9, p=1 .........................\n",
      "[CV]  algorithm=ball_tree, n_neighbors=9, p=1, score=0.915, total=   0.1s\n",
      "[CV] algorithm=ball_tree, n_neighbors=9, p=2 .........................\n",
      "[CV]  algorithm=ball_tree, n_neighbors=9, p=2, score=0.888, total=   0.1s\n",
      "[CV] algorithm=ball_tree, n_neighbors=9, p=2 .........................\n",
      "[CV]  algorithm=ball_tree, n_neighbors=9, p=2, score=0.867, total=   0.1s\n",
      "[CV] algorithm=ball_tree, n_neighbors=9, p=2 .........................\n",
      "[CV]  algorithm=ball_tree, n_neighbors=9, p=2, score=0.888, total=   0.1s\n",
      "[CV] algorithm=ball_tree, n_neighbors=9, p=2 .........................\n",
      "[CV]  algorithm=ball_tree, n_neighbors=9, p=2, score=0.881, total=   0.1s\n",
      "[CV] algorithm=ball_tree, n_neighbors=9, p=2 .........................\n",
      "[CV]  algorithm=ball_tree, n_neighbors=9, p=2, score=0.903, total=   0.1s\n",
      "[CV] algorithm=ball_tree, n_neighbors=9, p=2 .........................\n",
      "[CV]  algorithm=ball_tree, n_neighbors=9, p=2, score=0.878, total=   0.1s\n",
      "[CV] algorithm=ball_tree, n_neighbors=9, p=2 .........................\n",
      "[CV]  algorithm=ball_tree, n_neighbors=9, p=2, score=0.920, total=   0.1s\n",
      "[CV] algorithm=ball_tree, n_neighbors=9, p=2 .........................\n",
      "[CV]  algorithm=ball_tree, n_neighbors=9, p=2, score=0.905, total=   0.1s\n",
      "[CV] algorithm=ball_tree, n_neighbors=9, p=2 .........................\n",
      "[CV]  algorithm=ball_tree, n_neighbors=9, p=2, score=0.912, total=   0.1s\n",
      "[CV] algorithm=ball_tree, n_neighbors=9, p=2 .........................\n",
      "[CV]  algorithm=ball_tree, n_neighbors=9, p=2, score=0.895, total=   0.1s\n",
      "[CV] algorithm=ball_tree, n_neighbors=9, p=3 .........................\n",
      "[CV]  algorithm=ball_tree, n_neighbors=9, p=3, score=0.881, total=   2.5s\n",
      "[CV] algorithm=ball_tree, n_neighbors=9, p=3 .........................\n",
      "[CV]  algorithm=ball_tree, n_neighbors=9, p=3, score=0.847, total=   2.4s\n",
      "[CV] algorithm=ball_tree, n_neighbors=9, p=3 .........................\n",
      "[CV]  algorithm=ball_tree, n_neighbors=9, p=3, score=0.871, total=   2.4s\n",
      "[CV] algorithm=ball_tree, n_neighbors=9, p=3 .........................\n",
      "[CV]  algorithm=ball_tree, n_neighbors=9, p=3, score=0.869, total=   1.7s\n",
      "[CV] algorithm=ball_tree, n_neighbors=9, p=3 .........................\n",
      "[CV]  algorithm=ball_tree, n_neighbors=9, p=3, score=0.900, total=   1.1s\n",
      "[CV] algorithm=ball_tree, n_neighbors=9, p=3 .........................\n",
      "[CV]  algorithm=ball_tree, n_neighbors=9, p=3, score=0.861, total=   1.2s\n",
      "[CV] algorithm=ball_tree, n_neighbors=9, p=3 .........................\n",
      "[CV]  algorithm=ball_tree, n_neighbors=9, p=3, score=0.891, total=   1.2s\n",
      "[CV] algorithm=ball_tree, n_neighbors=9, p=3 .........................\n",
      "[CV]  algorithm=ball_tree, n_neighbors=9, p=3, score=0.898, total=   1.1s\n",
      "[CV] algorithm=ball_tree, n_neighbors=9, p=3 .........................\n",
      "[CV]  algorithm=ball_tree, n_neighbors=9, p=3, score=0.893, total=   1.1s\n",
      "[CV] algorithm=ball_tree, n_neighbors=9, p=3 .........................\n",
      "[CV]  algorithm=ball_tree, n_neighbors=9, p=3, score=0.873, total=   1.1s\n",
      "[CV] algorithm=ball_tree, n_neighbors=15, p=1 ........................\n",
      "[CV]  algorithm=ball_tree, n_neighbors=15, p=1, score=0.891, total=   0.1s\n",
      "[CV] algorithm=ball_tree, n_neighbors=15, p=1 ........................\n",
      "[CV]  algorithm=ball_tree, n_neighbors=15, p=1, score=0.876, total=   0.1s\n",
      "[CV] algorithm=ball_tree, n_neighbors=15, p=1 ........................\n",
      "[CV]  algorithm=ball_tree, n_neighbors=15, p=1, score=0.886, total=   0.1s\n",
      "[CV] algorithm=ball_tree, n_neighbors=15, p=1 ........................\n",
      "[CV]  algorithm=ball_tree, n_neighbors=15, p=1, score=0.886, total=   0.1s\n",
      "[CV] algorithm=ball_tree, n_neighbors=15, p=1 ........................\n",
      "[CV]  algorithm=ball_tree, n_neighbors=15, p=1, score=0.917, total=   0.1s\n",
      "[CV] algorithm=ball_tree, n_neighbors=15, p=1 ........................\n",
      "[CV]  algorithm=ball_tree, n_neighbors=15, p=1, score=0.895, total=   0.1s\n",
      "[CV] algorithm=ball_tree, n_neighbors=15, p=1 ........................\n",
      "[CV]  algorithm=ball_tree, n_neighbors=15, p=1, score=0.922, total=   0.1s\n",
      "[CV] algorithm=ball_tree, n_neighbors=15, p=1 ........................\n",
      "[CV]  algorithm=ball_tree, n_neighbors=15, p=1, score=0.912, total=   0.1s\n",
      "[CV] algorithm=ball_tree, n_neighbors=15, p=1 ........................\n",
      "[CV]  algorithm=ball_tree, n_neighbors=15, p=1, score=0.905, total=   0.1s\n",
      "[CV] algorithm=ball_tree, n_neighbors=15, p=1 ........................\n",
      "[CV]  algorithm=ball_tree, n_neighbors=15, p=1, score=0.888, total=   0.1s\n",
      "[CV] algorithm=ball_tree, n_neighbors=15, p=2 ........................\n",
      "[CV]  algorithm=ball_tree, n_neighbors=15, p=2, score=0.874, total=   0.1s\n",
      "[CV] algorithm=ball_tree, n_neighbors=15, p=2 ........................\n",
      "[CV]  algorithm=ball_tree, n_neighbors=15, p=2, score=0.850, total=   0.1s\n",
      "[CV] algorithm=ball_tree, n_neighbors=15, p=2 ........................\n",
      "[CV]  algorithm=ball_tree, n_neighbors=15, p=2, score=0.869, total=   0.1s\n",
      "[CV] algorithm=ball_tree, n_neighbors=15, p=2 ........................\n",
      "[CV]  algorithm=ball_tree, n_neighbors=15, p=2, score=0.871, total=   0.1s\n",
      "[CV] algorithm=ball_tree, n_neighbors=15, p=2 ........................\n",
      "[CV]  algorithm=ball_tree, n_neighbors=15, p=2, score=0.888, total=   0.1s\n",
      "[CV] algorithm=ball_tree, n_neighbors=15, p=2 ........................\n",
      "[CV]  algorithm=ball_tree, n_neighbors=15, p=2, score=0.864, total=   0.1s\n",
      "[CV] algorithm=ball_tree, n_neighbors=15, p=2 ........................\n",
      "[CV]  algorithm=ball_tree, n_neighbors=15, p=2, score=0.893, total=   0.1s\n",
      "[CV] algorithm=ball_tree, n_neighbors=15, p=2 ........................\n",
      "[CV]  algorithm=ball_tree, n_neighbors=15, p=2, score=0.893, total=   0.1s\n",
      "[CV] algorithm=ball_tree, n_neighbors=15, p=2 ........................\n",
      "[CV]  algorithm=ball_tree, n_neighbors=15, p=2, score=0.903, total=   0.1s\n",
      "[CV] algorithm=ball_tree, n_neighbors=15, p=2 ........................\n",
      "[CV]  algorithm=ball_tree, n_neighbors=15, p=2, score=0.873, total=   0.1s\n",
      "[CV] algorithm=ball_tree, n_neighbors=15, p=3 ........................\n",
      "[CV]  algorithm=ball_tree, n_neighbors=15, p=3, score=0.867, total=   1.2s\n",
      "[CV] algorithm=ball_tree, n_neighbors=15, p=3 ........................\n",
      "[CV]  algorithm=ball_tree, n_neighbors=15, p=3, score=0.823, total=   1.2s\n",
      "[CV] algorithm=ball_tree, n_neighbors=15, p=3 ........................\n",
      "[CV]  algorithm=ball_tree, n_neighbors=15, p=3, score=0.864, total=   1.2s\n",
      "[CV] algorithm=ball_tree, n_neighbors=15, p=3 ........................\n",
      "[CV]  algorithm=ball_tree, n_neighbors=15, p=3, score=0.830, total=   1.2s\n",
      "[CV] algorithm=ball_tree, n_neighbors=15, p=3 ........................\n",
      "[CV]  algorithm=ball_tree, n_neighbors=15, p=3, score=0.881, total=   2.2s\n",
      "[CV] algorithm=ball_tree, n_neighbors=15, p=3 ........................\n",
      "[CV]  algorithm=ball_tree, n_neighbors=15, p=3, score=0.847, total=   2.5s\n",
      "[CV] algorithm=ball_tree, n_neighbors=15, p=3 ........................\n",
      "[CV]  algorithm=ball_tree, n_neighbors=15, p=3, score=0.881, total=   2.5s\n",
      "[CV] algorithm=ball_tree, n_neighbors=15, p=3 ........................\n",
      "[CV]  algorithm=ball_tree, n_neighbors=15, p=3, score=0.886, total=   2.4s\n",
      "[CV] algorithm=ball_tree, n_neighbors=15, p=3 ........................\n",
      "[CV]  algorithm=ball_tree, n_neighbors=15, p=3, score=0.883, total=   2.5s\n",
      "[CV] algorithm=ball_tree, n_neighbors=15, p=3 ........................\n",
      "[CV]  algorithm=ball_tree, n_neighbors=15, p=3, score=0.854, total=   2.5s\n",
      "[CV] algorithm=kd_tree, n_neighbors=3, p=1 ...........................\n",
      "[CV]  algorithm=kd_tree, n_neighbors=3, p=1, score=0.896, total=   0.1s\n",
      "[CV] algorithm=kd_tree, n_neighbors=3, p=1 ...........................\n",
      "[CV]  algorithm=kd_tree, n_neighbors=3, p=1, score=0.886, total=   0.1s\n",
      "[CV] algorithm=kd_tree, n_neighbors=3, p=1 ...........................\n",
      "[CV]  algorithm=kd_tree, n_neighbors=3, p=1, score=0.900, total=   0.1s\n",
      "[CV] algorithm=kd_tree, n_neighbors=3, p=1 ...........................\n",
      "[CV]  algorithm=kd_tree, n_neighbors=3, p=1, score=0.927, total=   0.1s\n",
      "[CV] algorithm=kd_tree, n_neighbors=3, p=1 ...........................\n",
      "[CV]  algorithm=kd_tree, n_neighbors=3, p=1, score=0.922, total=   0.1s\n",
      "[CV] algorithm=kd_tree, n_neighbors=3, p=1 ...........................\n"
     ]
    },
    {
     "name": "stdout",
     "output_type": "stream",
     "text": [
      "[CV]  algorithm=kd_tree, n_neighbors=3, p=1, score=0.910, total=   0.1s\n",
      "[CV] algorithm=kd_tree, n_neighbors=3, p=1 ...........................\n",
      "[CV]  algorithm=kd_tree, n_neighbors=3, p=1, score=0.942, total=   0.1s\n",
      "[CV] algorithm=kd_tree, n_neighbors=3, p=1 ...........................\n",
      "[CV]  algorithm=kd_tree, n_neighbors=3, p=1, score=0.932, total=   0.1s\n",
      "[CV] algorithm=kd_tree, n_neighbors=3, p=1 ...........................\n",
      "[CV]  algorithm=kd_tree, n_neighbors=3, p=1, score=0.939, total=   0.1s\n",
      "[CV] algorithm=kd_tree, n_neighbors=3, p=1 ...........................\n",
      "[CV]  algorithm=kd_tree, n_neighbors=3, p=1, score=0.934, total=   0.1s\n",
      "[CV] algorithm=kd_tree, n_neighbors=3, p=2 ...........................\n",
      "[CV]  algorithm=kd_tree, n_neighbors=3, p=2, score=0.896, total=   0.1s\n",
      "[CV] algorithm=kd_tree, n_neighbors=3, p=2 ...........................\n",
      "[CV]  algorithm=kd_tree, n_neighbors=3, p=2, score=0.883, total=   0.1s\n",
      "[CV] algorithm=kd_tree, n_neighbors=3, p=2 ...........................\n",
      "[CV]  algorithm=kd_tree, n_neighbors=3, p=2, score=0.881, total=   0.1s\n",
      "[CV] algorithm=kd_tree, n_neighbors=3, p=2 ...........................\n",
      "[CV]  algorithm=kd_tree, n_neighbors=3, p=2, score=0.903, total=   0.1s\n",
      "[CV] algorithm=kd_tree, n_neighbors=3, p=2 ...........................\n",
      "[CV]  algorithm=kd_tree, n_neighbors=3, p=2, score=0.934, total=   0.1s\n",
      "[CV] algorithm=kd_tree, n_neighbors=3, p=2 ...........................\n",
      "[CV]  algorithm=kd_tree, n_neighbors=3, p=2, score=0.898, total=   0.1s\n",
      "[CV] algorithm=kd_tree, n_neighbors=3, p=2 ...........................\n",
      "[CV]  algorithm=kd_tree, n_neighbors=3, p=2, score=0.925, total=   0.1s\n",
      "[CV] algorithm=kd_tree, n_neighbors=3, p=2 ...........................\n",
      "[CV]  algorithm=kd_tree, n_neighbors=3, p=2, score=0.917, total=   0.1s\n",
      "[CV] algorithm=kd_tree, n_neighbors=3, p=2 ...........................\n",
      "[CV]  algorithm=kd_tree, n_neighbors=3, p=2, score=0.934, total=   0.1s\n",
      "[CV] algorithm=kd_tree, n_neighbors=3, p=2 ...........................\n",
      "[CV]  algorithm=kd_tree, n_neighbors=3, p=2, score=0.903, total=   0.1s\n",
      "[CV] algorithm=kd_tree, n_neighbors=3, p=3 ...........................\n",
      "[CV]  algorithm=kd_tree, n_neighbors=3, p=3, score=0.881, total=   0.7s\n",
      "[CV] algorithm=kd_tree, n_neighbors=3, p=3 ...........................\n",
      "[CV]  algorithm=kd_tree, n_neighbors=3, p=3, score=0.876, total=   0.7s\n",
      "[CV] algorithm=kd_tree, n_neighbors=3, p=3 ...........................\n",
      "[CV]  algorithm=kd_tree, n_neighbors=3, p=3, score=0.873, total=   0.7s\n",
      "[CV] algorithm=kd_tree, n_neighbors=3, p=3 ...........................\n",
      "[CV]  algorithm=kd_tree, n_neighbors=3, p=3, score=0.888, total=   0.7s\n",
      "[CV] algorithm=kd_tree, n_neighbors=3, p=3 ...........................\n",
      "[CV]  algorithm=kd_tree, n_neighbors=3, p=3, score=0.908, total=   0.7s\n",
      "[CV] algorithm=kd_tree, n_neighbors=3, p=3 ...........................\n",
      "[CV]  algorithm=kd_tree, n_neighbors=3, p=3, score=0.891, total=   0.7s\n",
      "[CV] algorithm=kd_tree, n_neighbors=3, p=3 ...........................\n",
      "[CV]  algorithm=kd_tree, n_neighbors=3, p=3, score=0.908, total=   0.7s\n",
      "[CV] algorithm=kd_tree, n_neighbors=3, p=3 ...........................\n",
      "[CV]  algorithm=kd_tree, n_neighbors=3, p=3, score=0.912, total=   0.4s\n",
      "[CV] algorithm=kd_tree, n_neighbors=3, p=3 ...........................\n",
      "[CV]  algorithm=kd_tree, n_neighbors=3, p=3, score=0.927, total=   0.3s\n",
      "[CV] algorithm=kd_tree, n_neighbors=3, p=3 ...........................\n",
      "[CV]  algorithm=kd_tree, n_neighbors=3, p=3, score=0.876, total=   0.3s\n",
      "[CV] algorithm=kd_tree, n_neighbors=5, p=1 ...........................\n",
      "[CV]  algorithm=kd_tree, n_neighbors=5, p=1, score=0.903, total=   0.1s\n",
      "[CV] algorithm=kd_tree, n_neighbors=5, p=1 ...........................\n",
      "[CV]  algorithm=kd_tree, n_neighbors=5, p=1, score=0.898, total=   0.1s\n",
      "[CV] algorithm=kd_tree, n_neighbors=5, p=1 ...........................\n",
      "[CV]  algorithm=kd_tree, n_neighbors=5, p=1, score=0.905, total=   0.1s\n",
      "[CV] algorithm=kd_tree, n_neighbors=5, p=1 ...........................\n",
      "[CV]  algorithm=kd_tree, n_neighbors=5, p=1, score=0.917, total=   0.1s\n",
      "[CV] algorithm=kd_tree, n_neighbors=5, p=1 ...........................\n",
      "[CV]  algorithm=kd_tree, n_neighbors=5, p=1, score=0.934, total=   0.1s\n",
      "[CV] algorithm=kd_tree, n_neighbors=5, p=1 ...........................\n",
      "[CV]  algorithm=kd_tree, n_neighbors=5, p=1, score=0.912, total=   0.1s\n",
      "[CV] algorithm=kd_tree, n_neighbors=5, p=1 ...........................\n",
      "[CV]  algorithm=kd_tree, n_neighbors=5, p=1, score=0.937, total=   0.1s\n",
      "[CV] algorithm=kd_tree, n_neighbors=5, p=1 ...........................\n",
      "[CV]  algorithm=kd_tree, n_neighbors=5, p=1, score=0.920, total=   0.1s\n",
      "[CV] algorithm=kd_tree, n_neighbors=5, p=1 ...........................\n",
      "[CV]  algorithm=kd_tree, n_neighbors=5, p=1, score=0.934, total=   0.1s\n",
      "[CV] algorithm=kd_tree, n_neighbors=5, p=1 ...........................\n",
      "[CV]  algorithm=kd_tree, n_neighbors=5, p=1, score=0.925, total=   0.1s\n",
      "[CV] algorithm=kd_tree, n_neighbors=5, p=2 ...........................\n",
      "[CV]  algorithm=kd_tree, n_neighbors=5, p=2, score=0.893, total=   0.1s\n",
      "[CV] algorithm=kd_tree, n_neighbors=5, p=2 ...........................\n",
      "[CV]  algorithm=kd_tree, n_neighbors=5, p=2, score=0.867, total=   0.1s\n",
      "[CV] algorithm=kd_tree, n_neighbors=5, p=2 ...........................\n",
      "[CV]  algorithm=kd_tree, n_neighbors=5, p=2, score=0.883, total=   0.1s\n",
      "[CV] algorithm=kd_tree, n_neighbors=5, p=2 ...........................\n",
      "[CV]  algorithm=kd_tree, n_neighbors=5, p=2, score=0.891, total=   0.1s\n",
      "[CV] algorithm=kd_tree, n_neighbors=5, p=2 ...........................\n",
      "[CV]  algorithm=kd_tree, n_neighbors=5, p=2, score=0.939, total=   0.1s\n",
      "[CV] algorithm=kd_tree, n_neighbors=5, p=2 ...........................\n",
      "[CV]  algorithm=kd_tree, n_neighbors=5, p=2, score=0.891, total=   0.1s\n",
      "[CV] algorithm=kd_tree, n_neighbors=5, p=2 ...........................\n",
      "[CV]  algorithm=kd_tree, n_neighbors=5, p=2, score=0.910, total=   0.1s\n",
      "[CV] algorithm=kd_tree, n_neighbors=5, p=2 ...........................\n",
      "[CV]  algorithm=kd_tree, n_neighbors=5, p=2, score=0.925, total=   0.1s\n",
      "[CV] algorithm=kd_tree, n_neighbors=5, p=2 ...........................\n",
      "[CV]  algorithm=kd_tree, n_neighbors=5, p=2, score=0.920, total=   0.1s\n",
      "[CV] algorithm=kd_tree, n_neighbors=5, p=2 ...........................\n",
      "[CV]  algorithm=kd_tree, n_neighbors=5, p=2, score=0.895, total=   0.1s\n",
      "[CV] algorithm=kd_tree, n_neighbors=5, p=3 ...........................\n",
      "[CV]  algorithm=kd_tree, n_neighbors=5, p=3, score=0.876, total=   0.4s\n",
      "[CV] algorithm=kd_tree, n_neighbors=5, p=3 ...........................\n",
      "[CV]  algorithm=kd_tree, n_neighbors=5, p=3, score=0.862, total=   0.4s\n",
      "[CV] algorithm=kd_tree, n_neighbors=5, p=3 ...........................\n",
      "[CV]  algorithm=kd_tree, n_neighbors=5, p=3, score=0.861, total=   0.4s\n",
      "[CV] algorithm=kd_tree, n_neighbors=5, p=3 ...........................\n",
      "[CV]  algorithm=kd_tree, n_neighbors=5, p=3, score=0.864, total=   0.4s\n",
      "[CV] algorithm=kd_tree, n_neighbors=5, p=3 ...........................\n",
      "[CV]  algorithm=kd_tree, n_neighbors=5, p=3, score=0.903, total=   0.4s\n",
      "[CV] algorithm=kd_tree, n_neighbors=5, p=3 ...........................\n",
      "[CV]  algorithm=kd_tree, n_neighbors=5, p=3, score=0.886, total=   0.4s\n",
      "[CV] algorithm=kd_tree, n_neighbors=5, p=3 ...........................\n",
      "[CV]  algorithm=kd_tree, n_neighbors=5, p=3, score=0.898, total=   0.4s\n",
      "[CV] algorithm=kd_tree, n_neighbors=5, p=3 ...........................\n",
      "[CV]  algorithm=kd_tree, n_neighbors=5, p=3, score=0.898, total=   0.4s\n",
      "[CV] algorithm=kd_tree, n_neighbors=5, p=3 ...........................\n",
      "[CV]  algorithm=kd_tree, n_neighbors=5, p=3, score=0.915, total=   0.4s\n",
      "[CV] algorithm=kd_tree, n_neighbors=5, p=3 ...........................\n",
      "[CV]  algorithm=kd_tree, n_neighbors=5, p=3, score=0.881, total=   0.4s\n",
      "[CV] algorithm=kd_tree, n_neighbors=9, p=1 ...........................\n",
      "[CV]  algorithm=kd_tree, n_neighbors=9, p=1, score=0.896, total=   0.1s\n",
      "[CV] algorithm=kd_tree, n_neighbors=9, p=1 ...........................\n",
      "[CV]  algorithm=kd_tree, n_neighbors=9, p=1, score=0.879, total=   0.1s\n",
      "[CV] algorithm=kd_tree, n_neighbors=9, p=1 ...........................\n",
      "[CV]  algorithm=kd_tree, n_neighbors=9, p=1, score=0.895, total=   0.1s\n",
      "[CV] algorithm=kd_tree, n_neighbors=9, p=1 ...........................\n"
     ]
    },
    {
     "name": "stdout",
     "output_type": "stream",
     "text": [
      "[CV]  algorithm=kd_tree, n_neighbors=9, p=1, score=0.912, total=   0.1s\n",
      "[CV] algorithm=kd_tree, n_neighbors=9, p=1 ...........................\n",
      "[CV]  algorithm=kd_tree, n_neighbors=9, p=1, score=0.932, total=   0.1s\n",
      "[CV] algorithm=kd_tree, n_neighbors=9, p=1 ...........................\n",
      "[CV]  algorithm=kd_tree, n_neighbors=9, p=1, score=0.900, total=   0.1s\n",
      "[CV] algorithm=kd_tree, n_neighbors=9, p=1 ...........................\n",
      "[CV]  algorithm=kd_tree, n_neighbors=9, p=1, score=0.934, total=   0.1s\n",
      "[CV] algorithm=kd_tree, n_neighbors=9, p=1 ...........................\n",
      "[CV]  algorithm=kd_tree, n_neighbors=9, p=1, score=0.910, total=   0.1s\n",
      "[CV] algorithm=kd_tree, n_neighbors=9, p=1 ...........................\n",
      "[CV]  algorithm=kd_tree, n_neighbors=9, p=1, score=0.927, total=   0.1s\n",
      "[CV] algorithm=kd_tree, n_neighbors=9, p=1 ...........................\n",
      "[CV]  algorithm=kd_tree, n_neighbors=9, p=1, score=0.915, total=   0.1s\n",
      "[CV] algorithm=kd_tree, n_neighbors=9, p=2 ...........................\n",
      "[CV]  algorithm=kd_tree, n_neighbors=9, p=2, score=0.888, total=   0.1s\n",
      "[CV] algorithm=kd_tree, n_neighbors=9, p=2 ...........................\n",
      "[CV]  algorithm=kd_tree, n_neighbors=9, p=2, score=0.867, total=   0.1s\n",
      "[CV] algorithm=kd_tree, n_neighbors=9, p=2 ...........................\n",
      "[CV]  algorithm=kd_tree, n_neighbors=9, p=2, score=0.888, total=   0.1s\n",
      "[CV] algorithm=kd_tree, n_neighbors=9, p=2 ...........................\n",
      "[CV]  algorithm=kd_tree, n_neighbors=9, p=2, score=0.881, total=   0.1s\n",
      "[CV] algorithm=kd_tree, n_neighbors=9, p=2 ...........................\n",
      "[CV]  algorithm=kd_tree, n_neighbors=9, p=2, score=0.903, total=   0.1s\n",
      "[CV] algorithm=kd_tree, n_neighbors=9, p=2 ...........................\n",
      "[CV]  algorithm=kd_tree, n_neighbors=9, p=2, score=0.878, total=   0.1s\n",
      "[CV] algorithm=kd_tree, n_neighbors=9, p=2 ...........................\n",
      "[CV]  algorithm=kd_tree, n_neighbors=9, p=2, score=0.920, total=   0.1s\n",
      "[CV] algorithm=kd_tree, n_neighbors=9, p=2 ...........................\n",
      "[CV]  algorithm=kd_tree, n_neighbors=9, p=2, score=0.905, total=   0.1s\n",
      "[CV] algorithm=kd_tree, n_neighbors=9, p=2 ...........................\n",
      "[CV]  algorithm=kd_tree, n_neighbors=9, p=2, score=0.912, total=   0.1s\n",
      "[CV] algorithm=kd_tree, n_neighbors=9, p=2 ...........................\n",
      "[CV]  algorithm=kd_tree, n_neighbors=9, p=2, score=0.895, total=   0.1s\n",
      "[CV] algorithm=kd_tree, n_neighbors=9, p=3 ...........................\n",
      "[CV]  algorithm=kd_tree, n_neighbors=9, p=3, score=0.881, total=   0.4s\n",
      "[CV] algorithm=kd_tree, n_neighbors=9, p=3 ...........................\n",
      "[CV]  algorithm=kd_tree, n_neighbors=9, p=3, score=0.847, total=   0.5s\n",
      "[CV] algorithm=kd_tree, n_neighbors=9, p=3 ...........................\n",
      "[CV]  algorithm=kd_tree, n_neighbors=9, p=3, score=0.871, total=   0.4s\n",
      "[CV] algorithm=kd_tree, n_neighbors=9, p=3 ...........................\n",
      "[CV]  algorithm=kd_tree, n_neighbors=9, p=3, score=0.869, total=   0.4s\n",
      "[CV] algorithm=kd_tree, n_neighbors=9, p=3 ...........................\n",
      "[CV]  algorithm=kd_tree, n_neighbors=9, p=3, score=0.900, total=   0.5s\n",
      "[CV] algorithm=kd_tree, n_neighbors=9, p=3 ...........................\n",
      "[CV]  algorithm=kd_tree, n_neighbors=9, p=3, score=0.861, total=   0.5s\n",
      "[CV] algorithm=kd_tree, n_neighbors=9, p=3 ...........................\n",
      "[CV]  algorithm=kd_tree, n_neighbors=9, p=3, score=0.891, total=   0.4s\n",
      "[CV] algorithm=kd_tree, n_neighbors=9, p=3 ...........................\n",
      "[CV]  algorithm=kd_tree, n_neighbors=9, p=3, score=0.898, total=   0.4s\n",
      "[CV] algorithm=kd_tree, n_neighbors=9, p=3 ...........................\n",
      "[CV]  algorithm=kd_tree, n_neighbors=9, p=3, score=0.893, total=   0.4s\n",
      "[CV] algorithm=kd_tree, n_neighbors=9, p=3 ...........................\n",
      "[CV]  algorithm=kd_tree, n_neighbors=9, p=3, score=0.873, total=   0.5s\n",
      "[CV] algorithm=kd_tree, n_neighbors=15, p=1 ..........................\n",
      "[CV]  algorithm=kd_tree, n_neighbors=15, p=1, score=0.891, total=   0.1s\n",
      "[CV] algorithm=kd_tree, n_neighbors=15, p=1 ..........................\n",
      "[CV]  algorithm=kd_tree, n_neighbors=15, p=1, score=0.876, total=   0.1s\n",
      "[CV] algorithm=kd_tree, n_neighbors=15, p=1 ..........................\n",
      "[CV]  algorithm=kd_tree, n_neighbors=15, p=1, score=0.886, total=   0.1s\n",
      "[CV] algorithm=kd_tree, n_neighbors=15, p=1 ..........................\n",
      "[CV]  algorithm=kd_tree, n_neighbors=15, p=1, score=0.886, total=   0.1s\n",
      "[CV] algorithm=kd_tree, n_neighbors=15, p=1 ..........................\n",
      "[CV]  algorithm=kd_tree, n_neighbors=15, p=1, score=0.917, total=   0.1s\n",
      "[CV] algorithm=kd_tree, n_neighbors=15, p=1 ..........................\n",
      "[CV]  algorithm=kd_tree, n_neighbors=15, p=1, score=0.895, total=   0.1s\n",
      "[CV] algorithm=kd_tree, n_neighbors=15, p=1 ..........................\n",
      "[CV]  algorithm=kd_tree, n_neighbors=15, p=1, score=0.922, total=   0.1s\n",
      "[CV] algorithm=kd_tree, n_neighbors=15, p=1 ..........................\n",
      "[CV]  algorithm=kd_tree, n_neighbors=15, p=1, score=0.912, total=   0.1s\n",
      "[CV] algorithm=kd_tree, n_neighbors=15, p=1 ..........................\n",
      "[CV]  algorithm=kd_tree, n_neighbors=15, p=1, score=0.905, total=   0.1s\n",
      "[CV] algorithm=kd_tree, n_neighbors=15, p=1 ..........................\n",
      "[CV]  algorithm=kd_tree, n_neighbors=15, p=1, score=0.888, total=   0.1s\n",
      "[CV] algorithm=kd_tree, n_neighbors=15, p=2 ..........................\n",
      "[CV]  algorithm=kd_tree, n_neighbors=15, p=2, score=0.874, total=   0.1s\n",
      "[CV] algorithm=kd_tree, n_neighbors=15, p=2 ..........................\n",
      "[CV]  algorithm=kd_tree, n_neighbors=15, p=2, score=0.850, total=   0.1s\n",
      "[CV] algorithm=kd_tree, n_neighbors=15, p=2 ..........................\n",
      "[CV]  algorithm=kd_tree, n_neighbors=15, p=2, score=0.869, total=   0.1s\n",
      "[CV] algorithm=kd_tree, n_neighbors=15, p=2 ..........................\n",
      "[CV]  algorithm=kd_tree, n_neighbors=15, p=2, score=0.871, total=   0.1s\n",
      "[CV] algorithm=kd_tree, n_neighbors=15, p=2 ..........................\n",
      "[CV]  algorithm=kd_tree, n_neighbors=15, p=2, score=0.888, total=   0.1s\n",
      "[CV] algorithm=kd_tree, n_neighbors=15, p=2 ..........................\n",
      "[CV]  algorithm=kd_tree, n_neighbors=15, p=2, score=0.864, total=   0.1s\n",
      "[CV] algorithm=kd_tree, n_neighbors=15, p=2 ..........................\n",
      "[CV]  algorithm=kd_tree, n_neighbors=15, p=2, score=0.893, total=   0.1s\n",
      "[CV] algorithm=kd_tree, n_neighbors=15, p=2 ..........................\n",
      "[CV]  algorithm=kd_tree, n_neighbors=15, p=2, score=0.893, total=   0.1s\n",
      "[CV] algorithm=kd_tree, n_neighbors=15, p=2 ..........................\n",
      "[CV]  algorithm=kd_tree, n_neighbors=15, p=2, score=0.903, total=   0.1s\n",
      "[CV] algorithm=kd_tree, n_neighbors=15, p=2 ..........................\n",
      "[CV]  algorithm=kd_tree, n_neighbors=15, p=2, score=0.873, total=   0.1s\n",
      "[CV] algorithm=kd_tree, n_neighbors=15, p=3 ..........................\n",
      "[CV]  algorithm=kd_tree, n_neighbors=15, p=3, score=0.867, total=   1.1s\n",
      "[CV] algorithm=kd_tree, n_neighbors=15, p=3 ..........................\n",
      "[CV]  algorithm=kd_tree, n_neighbors=15, p=3, score=0.823, total=   1.1s\n",
      "[CV] algorithm=kd_tree, n_neighbors=15, p=3 ..........................\n",
      "[CV]  algorithm=kd_tree, n_neighbors=15, p=3, score=0.864, total=   1.0s\n",
      "[CV] algorithm=kd_tree, n_neighbors=15, p=3 ..........................\n",
      "[CV]  algorithm=kd_tree, n_neighbors=15, p=3, score=0.830, total=   1.1s\n",
      "[CV] algorithm=kd_tree, n_neighbors=15, p=3 ..........................\n",
      "[CV]  algorithm=kd_tree, n_neighbors=15, p=3, score=0.881, total=   1.1s\n",
      "[CV] algorithm=kd_tree, n_neighbors=15, p=3 ..........................\n",
      "[CV]  algorithm=kd_tree, n_neighbors=15, p=3, score=0.847, total=   1.1s\n",
      "[CV] algorithm=kd_tree, n_neighbors=15, p=3 ..........................\n",
      "[CV]  algorithm=kd_tree, n_neighbors=15, p=3, score=0.881, total=   1.1s\n",
      "[CV] algorithm=kd_tree, n_neighbors=15, p=3 ..........................\n",
      "[CV]  algorithm=kd_tree, n_neighbors=15, p=3, score=0.886, total=   1.1s\n",
      "[CV] algorithm=kd_tree, n_neighbors=15, p=3 ..........................\n",
      "[CV]  algorithm=kd_tree, n_neighbors=15, p=3, score=0.883, total=   1.1s\n",
      "[CV] algorithm=kd_tree, n_neighbors=15, p=3 ..........................\n",
      "[CV]  algorithm=kd_tree, n_neighbors=15, p=3, score=0.854, total=   1.1s\n",
      "[CV] algorithm=brute, n_neighbors=3, p=1 .............................\n",
      "[CV] . algorithm=brute, n_neighbors=3, p=1, score=0.896, total=   0.1s\n",
      "[CV] algorithm=brute, n_neighbors=3, p=1 .............................\n"
     ]
    },
    {
     "name": "stdout",
     "output_type": "stream",
     "text": [
      "[CV] . algorithm=brute, n_neighbors=3, p=1, score=0.886, total=   0.1s\n",
      "[CV] algorithm=brute, n_neighbors=3, p=1 .............................\n",
      "[CV] . algorithm=brute, n_neighbors=3, p=1, score=0.900, total=   0.1s\n",
      "[CV] algorithm=brute, n_neighbors=3, p=1 .............................\n",
      "[CV] . algorithm=brute, n_neighbors=3, p=1, score=0.927, total=   0.1s\n",
      "[CV] algorithm=brute, n_neighbors=3, p=1 .............................\n",
      "[CV] . algorithm=brute, n_neighbors=3, p=1, score=0.922, total=   0.1s\n",
      "[CV] algorithm=brute, n_neighbors=3, p=1 .............................\n",
      "[CV] . algorithm=brute, n_neighbors=3, p=1, score=0.910, total=   0.1s\n",
      "[CV] algorithm=brute, n_neighbors=3, p=1 .............................\n",
      "[CV] . algorithm=brute, n_neighbors=3, p=1, score=0.942, total=   0.1s\n",
      "[CV] algorithm=brute, n_neighbors=3, p=1 .............................\n",
      "[CV] . algorithm=brute, n_neighbors=3, p=1, score=0.932, total=   0.1s\n",
      "[CV] algorithm=brute, n_neighbors=3, p=1 .............................\n",
      "[CV] . algorithm=brute, n_neighbors=3, p=1, score=0.939, total=   0.1s\n",
      "[CV] algorithm=brute, n_neighbors=3, p=1 .............................\n",
      "[CV] . algorithm=brute, n_neighbors=3, p=1, score=0.934, total=   0.1s\n",
      "[CV] algorithm=brute, n_neighbors=3, p=2 .............................\n",
      "[CV] . algorithm=brute, n_neighbors=3, p=2, score=0.896, total=   0.1s\n",
      "[CV] algorithm=brute, n_neighbors=3, p=2 .............................\n",
      "[CV] . algorithm=brute, n_neighbors=3, p=2, score=0.883, total=   0.1s\n",
      "[CV] algorithm=brute, n_neighbors=3, p=2 .............................\n",
      "[CV] . algorithm=brute, n_neighbors=3, p=2, score=0.881, total=   0.1s\n",
      "[CV] algorithm=brute, n_neighbors=3, p=2 .............................\n",
      "[CV] . algorithm=brute, n_neighbors=3, p=2, score=0.903, total=   0.1s\n",
      "[CV] algorithm=brute, n_neighbors=3, p=2 .............................\n",
      "[CV] . algorithm=brute, n_neighbors=3, p=2, score=0.934, total=   0.1s\n",
      "[CV] algorithm=brute, n_neighbors=3, p=2 .............................\n",
      "[CV] . algorithm=brute, n_neighbors=3, p=2, score=0.898, total=   0.1s\n",
      "[CV] algorithm=brute, n_neighbors=3, p=2 .............................\n",
      "[CV] . algorithm=brute, n_neighbors=3, p=2, score=0.925, total=   0.1s\n",
      "[CV] algorithm=brute, n_neighbors=3, p=2 .............................\n",
      "[CV] . algorithm=brute, n_neighbors=3, p=2, score=0.917, total=   0.1s\n",
      "[CV] algorithm=brute, n_neighbors=3, p=2 .............................\n",
      "[CV] . algorithm=brute, n_neighbors=3, p=2, score=0.934, total=   0.1s\n",
      "[CV] algorithm=brute, n_neighbors=3, p=2 .............................\n",
      "[CV] . algorithm=brute, n_neighbors=3, p=2, score=0.903, total=   0.1s\n",
      "[CV] algorithm=brute, n_neighbors=3, p=3 .............................\n",
      "[CV] . algorithm=brute, n_neighbors=3, p=3, score=0.881, total=   2.8s\n",
      "[CV] algorithm=brute, n_neighbors=3, p=3 .............................\n",
      "[CV] . algorithm=brute, n_neighbors=3, p=3, score=0.876, total=   2.7s\n",
      "[CV] algorithm=brute, n_neighbors=3, p=3 .............................\n",
      "[CV] . algorithm=brute, n_neighbors=3, p=3, score=0.873, total=   2.7s\n",
      "[CV] algorithm=brute, n_neighbors=3, p=3 .............................\n",
      "[CV] . algorithm=brute, n_neighbors=3, p=3, score=0.888, total=   2.6s\n",
      "[CV] algorithm=brute, n_neighbors=3, p=3 .............................\n",
      "[CV] . algorithm=brute, n_neighbors=3, p=3, score=0.908, total=   2.6s\n",
      "[CV] algorithm=brute, n_neighbors=3, p=3 .............................\n",
      "[CV] . algorithm=brute, n_neighbors=3, p=3, score=0.891, total=   2.6s\n",
      "[CV] algorithm=brute, n_neighbors=3, p=3 .............................\n",
      "[CV] . algorithm=brute, n_neighbors=3, p=3, score=0.908, total=   2.6s\n",
      "[CV] algorithm=brute, n_neighbors=3, p=3 .............................\n",
      "[CV] . algorithm=brute, n_neighbors=3, p=3, score=0.912, total=   2.7s\n",
      "[CV] algorithm=brute, n_neighbors=3, p=3 .............................\n",
      "[CV] . algorithm=brute, n_neighbors=3, p=3, score=0.927, total=   2.7s\n",
      "[CV] algorithm=brute, n_neighbors=3, p=3 .............................\n",
      "[CV] . algorithm=brute, n_neighbors=3, p=3, score=0.876, total=   2.8s\n",
      "[CV] algorithm=brute, n_neighbors=5, p=1 .............................\n",
      "[CV] . algorithm=brute, n_neighbors=5, p=1, score=0.903, total=   0.1s\n",
      "[CV] algorithm=brute, n_neighbors=5, p=1 .............................\n",
      "[CV] . algorithm=brute, n_neighbors=5, p=1, score=0.898, total=   0.1s\n",
      "[CV] algorithm=brute, n_neighbors=5, p=1 .............................\n",
      "[CV] . algorithm=brute, n_neighbors=5, p=1, score=0.905, total=   0.1s\n",
      "[CV] algorithm=brute, n_neighbors=5, p=1 .............................\n",
      "[CV] . algorithm=brute, n_neighbors=5, p=1, score=0.917, total=   0.1s\n",
      "[CV] algorithm=brute, n_neighbors=5, p=1 .............................\n",
      "[CV] . algorithm=brute, n_neighbors=5, p=1, score=0.934, total=   0.1s\n",
      "[CV] algorithm=brute, n_neighbors=5, p=1 .............................\n",
      "[CV] . algorithm=brute, n_neighbors=5, p=1, score=0.912, total=   0.1s\n",
      "[CV] algorithm=brute, n_neighbors=5, p=1 .............................\n",
      "[CV] . algorithm=brute, n_neighbors=5, p=1, score=0.937, total=   0.1s\n",
      "[CV] algorithm=brute, n_neighbors=5, p=1 .............................\n",
      "[CV] . algorithm=brute, n_neighbors=5, p=1, score=0.920, total=   0.1s\n",
      "[CV] algorithm=brute, n_neighbors=5, p=1 .............................\n",
      "[CV] . algorithm=brute, n_neighbors=5, p=1, score=0.934, total=   0.1s\n",
      "[CV] algorithm=brute, n_neighbors=5, p=1 .............................\n",
      "[CV] . algorithm=brute, n_neighbors=5, p=1, score=0.925, total=   0.1s\n",
      "[CV] algorithm=brute, n_neighbors=5, p=2 .............................\n",
      "[CV] . algorithm=brute, n_neighbors=5, p=2, score=0.893, total=   0.1s\n",
      "[CV] algorithm=brute, n_neighbors=5, p=2 .............................\n",
      "[CV] . algorithm=brute, n_neighbors=5, p=2, score=0.867, total=   0.1s\n",
      "[CV] algorithm=brute, n_neighbors=5, p=2 .............................\n",
      "[CV] . algorithm=brute, n_neighbors=5, p=2, score=0.883, total=   0.1s\n",
      "[CV] algorithm=brute, n_neighbors=5, p=2 .............................\n",
      "[CV] . algorithm=brute, n_neighbors=5, p=2, score=0.891, total=   0.1s\n",
      "[CV] algorithm=brute, n_neighbors=5, p=2 .............................\n",
      "[CV] . algorithm=brute, n_neighbors=5, p=2, score=0.939, total=   0.1s\n",
      "[CV] algorithm=brute, n_neighbors=5, p=2 .............................\n",
      "[CV] . algorithm=brute, n_neighbors=5, p=2, score=0.891, total=   0.1s\n",
      "[CV] algorithm=brute, n_neighbors=5, p=2 .............................\n",
      "[CV] . algorithm=brute, n_neighbors=5, p=2, score=0.910, total=   0.1s\n",
      "[CV] algorithm=brute, n_neighbors=5, p=2 .............................\n",
      "[CV] . algorithm=brute, n_neighbors=5, p=2, score=0.925, total=   0.1s\n",
      "[CV] algorithm=brute, n_neighbors=5, p=2 .............................\n",
      "[CV] . algorithm=brute, n_neighbors=5, p=2, score=0.920, total=   0.1s\n",
      "[CV] algorithm=brute, n_neighbors=5, p=2 .............................\n",
      "[CV] . algorithm=brute, n_neighbors=5, p=2, score=0.895, total=   0.1s\n",
      "[CV] algorithm=brute, n_neighbors=5, p=3 .............................\n",
      "[CV] . algorithm=brute, n_neighbors=5, p=3, score=0.876, total=   2.7s\n",
      "[CV] algorithm=brute, n_neighbors=5, p=3 .............................\n",
      "[CV] . algorithm=brute, n_neighbors=5, p=3, score=0.862, total=   2.8s\n",
      "[CV] algorithm=brute, n_neighbors=5, p=3 .............................\n",
      "[CV] . algorithm=brute, n_neighbors=5, p=3, score=0.861, total=   2.8s\n",
      "[CV] algorithm=brute, n_neighbors=5, p=3 .............................\n",
      "[CV] . algorithm=brute, n_neighbors=5, p=3, score=0.864, total=   2.7s\n",
      "[CV] algorithm=brute, n_neighbors=5, p=3 .............................\n",
      "[CV] . algorithm=brute, n_neighbors=5, p=3, score=0.903, total=   2.6s\n",
      "[CV] algorithm=brute, n_neighbors=5, p=3 .............................\n",
      "[CV] . algorithm=brute, n_neighbors=5, p=3, score=0.886, total=   2.6s\n",
      "[CV] algorithm=brute, n_neighbors=5, p=3 .............................\n",
      "[CV] . algorithm=brute, n_neighbors=5, p=3, score=0.898, total=   2.3s\n",
      "[CV] algorithm=brute, n_neighbors=5, p=3 .............................\n",
      "[CV] . algorithm=brute, n_neighbors=5, p=3, score=0.898, total=   1.2s\n",
      "[CV] algorithm=brute, n_neighbors=5, p=3 .............................\n",
      "[CV] . algorithm=brute, n_neighbors=5, p=3, score=0.915, total=   1.2s\n",
      "[CV] algorithm=brute, n_neighbors=5, p=3 .............................\n"
     ]
    },
    {
     "name": "stdout",
     "output_type": "stream",
     "text": [
      "[CV] . algorithm=brute, n_neighbors=5, p=3, score=0.881, total=   1.2s\n",
      "[CV] algorithm=brute, n_neighbors=9, p=1 .............................\n",
      "[CV] . algorithm=brute, n_neighbors=9, p=1, score=0.896, total=   0.1s\n",
      "[CV] algorithm=brute, n_neighbors=9, p=1 .............................\n",
      "[CV] . algorithm=brute, n_neighbors=9, p=1, score=0.879, total=   0.1s\n",
      "[CV] algorithm=brute, n_neighbors=9, p=1 .............................\n",
      "[CV] . algorithm=brute, n_neighbors=9, p=1, score=0.895, total=   0.1s\n",
      "[CV] algorithm=brute, n_neighbors=9, p=1 .............................\n",
      "[CV] . algorithm=brute, n_neighbors=9, p=1, score=0.912, total=   0.1s\n",
      "[CV] algorithm=brute, n_neighbors=9, p=1 .............................\n",
      "[CV] . algorithm=brute, n_neighbors=9, p=1, score=0.932, total=   0.1s\n",
      "[CV] algorithm=brute, n_neighbors=9, p=1 .............................\n",
      "[CV] . algorithm=brute, n_neighbors=9, p=1, score=0.900, total=   0.1s\n",
      "[CV] algorithm=brute, n_neighbors=9, p=1 .............................\n",
      "[CV] . algorithm=brute, n_neighbors=9, p=1, score=0.934, total=   0.1s\n",
      "[CV] algorithm=brute, n_neighbors=9, p=1 .............................\n",
      "[CV] . algorithm=brute, n_neighbors=9, p=1, score=0.910, total=   0.1s\n",
      "[CV] algorithm=brute, n_neighbors=9, p=1 .............................\n",
      "[CV] . algorithm=brute, n_neighbors=9, p=1, score=0.927, total=   0.1s\n",
      "[CV] algorithm=brute, n_neighbors=9, p=1 .............................\n",
      "[CV] . algorithm=brute, n_neighbors=9, p=1, score=0.915, total=   0.1s\n",
      "[CV] algorithm=brute, n_neighbors=9, p=2 .............................\n",
      "[CV] . algorithm=brute, n_neighbors=9, p=2, score=0.888, total=   0.1s\n",
      "[CV] algorithm=brute, n_neighbors=9, p=2 .............................\n",
      "[CV] . algorithm=brute, n_neighbors=9, p=2, score=0.867, total=   0.1s\n",
      "[CV] algorithm=brute, n_neighbors=9, p=2 .............................\n",
      "[CV] . algorithm=brute, n_neighbors=9, p=2, score=0.888, total=   0.0s\n",
      "[CV] algorithm=brute, n_neighbors=9, p=2 .............................\n",
      "[CV] . algorithm=brute, n_neighbors=9, p=2, score=0.881, total=   0.1s\n",
      "[CV] algorithm=brute, n_neighbors=9, p=2 .............................\n",
      "[CV] . algorithm=brute, n_neighbors=9, p=2, score=0.903, total=   0.0s\n",
      "[CV] algorithm=brute, n_neighbors=9, p=2 .............................\n",
      "[CV] . algorithm=brute, n_neighbors=9, p=2, score=0.878, total=   0.1s\n",
      "[CV] algorithm=brute, n_neighbors=9, p=2 .............................\n",
      "[CV] . algorithm=brute, n_neighbors=9, p=2, score=0.920, total=   0.1s\n",
      "[CV] algorithm=brute, n_neighbors=9, p=2 .............................\n",
      "[CV] . algorithm=brute, n_neighbors=9, p=2, score=0.905, total=   0.0s\n",
      "[CV] algorithm=brute, n_neighbors=9, p=2 .............................\n",
      "[CV] . algorithm=brute, n_neighbors=9, p=2, score=0.912, total=   0.1s\n",
      "[CV] algorithm=brute, n_neighbors=9, p=2 .............................\n",
      "[CV] . algorithm=brute, n_neighbors=9, p=2, score=0.895, total=   0.0s\n",
      "[CV] algorithm=brute, n_neighbors=9, p=3 .............................\n",
      "[CV] . algorithm=brute, n_neighbors=9, p=3, score=0.881, total=   1.2s\n",
      "[CV] algorithm=brute, n_neighbors=9, p=3 .............................\n",
      "[CV] . algorithm=brute, n_neighbors=9, p=3, score=0.847, total=   1.2s\n",
      "[CV] algorithm=brute, n_neighbors=9, p=3 .............................\n",
      "[CV] . algorithm=brute, n_neighbors=9, p=3, score=0.871, total=   1.2s\n",
      "[CV] algorithm=brute, n_neighbors=9, p=3 .............................\n",
      "[CV] . algorithm=brute, n_neighbors=9, p=3, score=0.869, total=   1.2s\n",
      "[CV] algorithm=brute, n_neighbors=9, p=3 .............................\n",
      "[CV] . algorithm=brute, n_neighbors=9, p=3, score=0.900, total=   1.7s\n",
      "[CV] algorithm=brute, n_neighbors=9, p=3 .............................\n",
      "[CV] . algorithm=brute, n_neighbors=9, p=3, score=0.861, total=   2.6s\n",
      "[CV] algorithm=brute, n_neighbors=9, p=3 .............................\n",
      "[CV] . algorithm=brute, n_neighbors=9, p=3, score=0.891, total=   2.6s\n",
      "[CV] algorithm=brute, n_neighbors=9, p=3 .............................\n",
      "[CV] . algorithm=brute, n_neighbors=9, p=3, score=0.898, total=   2.6s\n",
      "[CV] algorithm=brute, n_neighbors=9, p=3 .............................\n",
      "[CV] . algorithm=brute, n_neighbors=9, p=3, score=0.893, total=   2.6s\n",
      "[CV] algorithm=brute, n_neighbors=9, p=3 .............................\n",
      "[CV] . algorithm=brute, n_neighbors=9, p=3, score=0.873, total=   2.6s\n",
      "[CV] algorithm=brute, n_neighbors=15, p=1 ............................\n",
      "[CV]  algorithm=brute, n_neighbors=15, p=1, score=0.891, total=   0.1s\n",
      "[CV] algorithm=brute, n_neighbors=15, p=1 ............................\n",
      "[CV]  algorithm=brute, n_neighbors=15, p=1, score=0.876, total=   0.1s\n",
      "[CV] algorithm=brute, n_neighbors=15, p=1 ............................\n",
      "[CV]  algorithm=brute, n_neighbors=15, p=1, score=0.886, total=   0.1s\n",
      "[CV] algorithm=brute, n_neighbors=15, p=1 ............................\n",
      "[CV]  algorithm=brute, n_neighbors=15, p=1, score=0.886, total=   0.1s\n",
      "[CV] algorithm=brute, n_neighbors=15, p=1 ............................\n",
      "[CV]  algorithm=brute, n_neighbors=15, p=1, score=0.917, total=   0.1s\n",
      "[CV] algorithm=brute, n_neighbors=15, p=1 ............................\n",
      "[CV]  algorithm=brute, n_neighbors=15, p=1, score=0.895, total=   0.1s\n",
      "[CV] algorithm=brute, n_neighbors=15, p=1 ............................\n",
      "[CV]  algorithm=brute, n_neighbors=15, p=1, score=0.922, total=   0.1s\n",
      "[CV] algorithm=brute, n_neighbors=15, p=1 ............................\n",
      "[CV]  algorithm=brute, n_neighbors=15, p=1, score=0.912, total=   0.1s\n",
      "[CV] algorithm=brute, n_neighbors=15, p=1 ............................\n",
      "[CV]  algorithm=brute, n_neighbors=15, p=1, score=0.905, total=   0.1s\n",
      "[CV] algorithm=brute, n_neighbors=15, p=1 ............................\n",
      "[CV]  algorithm=brute, n_neighbors=15, p=1, score=0.888, total=   0.1s\n",
      "[CV] algorithm=brute, n_neighbors=15, p=2 ............................\n",
      "[CV]  algorithm=brute, n_neighbors=15, p=2, score=0.874, total=   0.1s\n",
      "[CV] algorithm=brute, n_neighbors=15, p=2 ............................\n",
      "[CV]  algorithm=brute, n_neighbors=15, p=2, score=0.850, total=   0.1s\n",
      "[CV] algorithm=brute, n_neighbors=15, p=2 ............................\n",
      "[CV]  algorithm=brute, n_neighbors=15, p=2, score=0.869, total=   0.1s\n",
      "[CV] algorithm=brute, n_neighbors=15, p=2 ............................\n",
      "[CV]  algorithm=brute, n_neighbors=15, p=2, score=0.871, total=   0.1s\n",
      "[CV] algorithm=brute, n_neighbors=15, p=2 ............................\n",
      "[CV]  algorithm=brute, n_neighbors=15, p=2, score=0.888, total=   0.1s\n",
      "[CV] algorithm=brute, n_neighbors=15, p=2 ............................\n",
      "[CV]  algorithm=brute, n_neighbors=15, p=2, score=0.864, total=   0.1s\n",
      "[CV] algorithm=brute, n_neighbors=15, p=2 ............................\n",
      "[CV]  algorithm=brute, n_neighbors=15, p=2, score=0.893, total=   0.1s\n",
      "[CV] algorithm=brute, n_neighbors=15, p=2 ............................\n",
      "[CV]  algorithm=brute, n_neighbors=15, p=2, score=0.893, total=   0.1s\n",
      "[CV] algorithm=brute, n_neighbors=15, p=2 ............................\n",
      "[CV]  algorithm=brute, n_neighbors=15, p=2, score=0.903, total=   0.1s\n",
      "[CV] algorithm=brute, n_neighbors=15, p=2 ............................\n",
      "[CV]  algorithm=brute, n_neighbors=15, p=2, score=0.873, total=   0.1s\n",
      "[CV] algorithm=brute, n_neighbors=15, p=3 ............................\n",
      "[CV]  algorithm=brute, n_neighbors=15, p=3, score=0.867, total=   2.7s\n",
      "[CV] algorithm=brute, n_neighbors=15, p=3 ............................\n",
      "[CV]  algorithm=brute, n_neighbors=15, p=3, score=0.823, total=   2.6s\n",
      "[CV] algorithm=brute, n_neighbors=15, p=3 ............................\n",
      "[CV]  algorithm=brute, n_neighbors=15, p=3, score=0.864, total=   2.6s\n",
      "[CV] algorithm=brute, n_neighbors=15, p=3 ............................\n",
      "[CV]  algorithm=brute, n_neighbors=15, p=3, score=0.830, total=   2.6s\n",
      "[CV] algorithm=brute, n_neighbors=15, p=3 ............................\n",
      "[CV]  algorithm=brute, n_neighbors=15, p=3, score=0.881, total=   1.7s\n",
      "[CV] algorithm=brute, n_neighbors=15, p=3 ............................\n",
      "[CV]  algorithm=brute, n_neighbors=15, p=3, score=0.847, total=   1.2s\n",
      "[CV] algorithm=brute, n_neighbors=15, p=3 ............................\n",
      "[CV]  algorithm=brute, n_neighbors=15, p=3, score=0.881, total=   1.2s\n",
      "[CV] algorithm=brute, n_neighbors=15, p=3 ............................\n"
     ]
    },
    {
     "name": "stdout",
     "output_type": "stream",
     "text": [
      "[CV]  algorithm=brute, n_neighbors=15, p=3, score=0.886, total=   1.2s\n",
      "[CV] algorithm=brute, n_neighbors=15, p=3 ............................\n",
      "[CV]  algorithm=brute, n_neighbors=15, p=3, score=0.883, total=   1.2s\n",
      "[CV] algorithm=brute, n_neighbors=15, p=3 ............................\n",
      "[CV]  algorithm=brute, n_neighbors=15, p=3, score=0.854, total=   1.2s\n"
     ]
    },
    {
     "name": "stderr",
     "output_type": "stream",
     "text": [
      "[Parallel(n_jobs=1)]: Done 480 out of 480 | elapsed:  3.9min finished\n"
     ]
    },
    {
     "data": {
      "text/plain": [
       "GridSearchCV(cv=10, error_score=nan,\n",
       "             estimator=KNeighborsClassifier(algorithm='auto', leaf_size=30,\n",
       "                                            metric='minkowski',\n",
       "                                            metric_params=None, n_jobs=None,\n",
       "                                            n_neighbors=5, p=2,\n",
       "                                            weights='uniform'),\n",
       "             iid='deprecated', n_jobs=None,\n",
       "             param_grid={'algorithm': ['auto', 'ball_tree', 'kd_tree', 'brute'],\n",
       "                         'n_neighbors': [3, 5, 9, 15], 'p': [1, 2, 3]},\n",
       "             pre_dispatch='2*n_jobs', refit=True, return_train_score=False,\n",
       "             scoring=None, verbose=10)"
      ]
     },
     "execution_count": 102,
     "metadata": {},
     "output_type": "execute_result"
    }
   ],
   "source": [
    "gs.fit(X_train, y_train)"
   ]
  },
  {
   "cell_type": "code",
   "execution_count": 103,
   "metadata": {},
   "outputs": [
    {
     "name": "stdout",
     "output_type": "stream",
     "text": [
      "KNeighborsClassifier(algorithm='auto', leaf_size=30, metric='minkowski',\n",
      "                     metric_params=None, n_jobs=None, n_neighbors=3, p=1,\n",
      "                     weights='uniform')\n"
     ]
    }
   ],
   "source": [
    "print(gs.best_estimator_)"
   ]
  },
  {
   "cell_type": "code",
   "execution_count": 104,
   "metadata": {},
   "outputs": [
    {
     "data": {
      "text/plain": [
       "KNeighborsClassifier(algorithm='auto', leaf_size=30, metric='minkowski',\n",
       "                     metric_params=None, n_jobs=1, n_neighbors=3, p=1,\n",
       "                     weights='uniform')"
      ]
     },
     "execution_count": 104,
     "metadata": {},
     "output_type": "execute_result"
    }
   ],
   "source": [
    "new_knn = KNeighborsClassifier(algorithm='auto', leaf_size=30, metric='minkowski',\n",
    "           metric_params=None, n_jobs=1, n_neighbors=3, p=1,\n",
    "           weights='uniform')\n",
    "new_knn.fit(X_train, y_train)"
   ]
  },
  {
   "cell_type": "code",
   "execution_count": 105,
   "metadata": {},
   "outputs": [
    {
     "name": "stdout",
     "output_type": "stream",
     "text": [
      "KNN - fine tuned, got 92.79636982416336% accuracy on the test set.\n"
     ]
    }
   ],
   "source": [
    "print(\"KNN - fine tuned, got {}% accuracy on the test set.\".format(accuracy_score(y_test, new_knn.predict(X_test))*100))"
   ]
  },
  {
   "cell_type": "markdown",
   "metadata": {},
   "source": [
    "### Step 2.3 Logistic Regression"
   ]
  },
  {
   "cell_type": "code",
   "execution_count": 106,
   "metadata": {},
   "outputs": [],
   "source": [
    "from sklearn.linear_model import LogisticRegression"
   ]
  },
  {
   "cell_type": "code",
   "execution_count": 107,
   "metadata": {},
   "outputs": [
    {
     "data": {
      "text/plain": [
       "LogisticRegression(C=1.0, class_weight=None, dual=False, fit_intercept=True,\n",
       "                   intercept_scaling=1, l1_ratio=None, max_iter=120000,\n",
       "                   multi_class='auto', n_jobs=None, penalty='l2',\n",
       "                   random_state=None, solver='lbfgs', tol=0.0001, verbose=0,\n",
       "                   warm_start=False)"
      ]
     },
     "execution_count": 107,
     "metadata": {},
     "output_type": "execute_result"
    }
   ],
   "source": [
    "lr = LogisticRegression(max_iter = 120000)\n",
    "lr.fit(X_train, y_train)"
   ]
  },
  {
   "cell_type": "code",
   "execution_count": 108,
   "metadata": {},
   "outputs": [
    {
     "name": "stdout",
     "output_type": "stream",
     "text": [
      "Logistic regression - default, got 97.16392512762337% accuracy on the test set.\n"
     ]
    }
   ],
   "source": [
    "print(\"Logistic regression - default, got {}% accuracy on the test set.\".format(accuracy_score(y_test, lr.predict(X_test))*100))"
   ]
  },
  {
   "cell_type": "code",
   "execution_count": 109,
   "metadata": {},
   "outputs": [
    {
     "data": {
      "text/plain": [
       "LogisticRegression(C=1000, class_weight=None, dual=False, fit_intercept=True,\n",
       "                   intercept_scaling=1, l1_ratio=None, max_iter=120000,\n",
       "                   multi_class='auto', n_jobs=None, penalty='l2',\n",
       "                   random_state=None, solver='lbfgs', tol=0.0001, verbose=0,\n",
       "                   warm_start=False)"
      ]
     },
     "execution_count": 109,
     "metadata": {},
     "output_type": "execute_result"
    }
   ],
   "source": [
    "lr_tuned = LogisticRegression(C=1000, penalty='l2', max_iter = 120000)\n",
    "lr_tuned.fit(X_train, y_train)"
   ]
  },
  {
   "cell_type": "code",
   "execution_count": 110,
   "metadata": {},
   "outputs": [
    {
     "name": "stdout",
     "output_type": "stream",
     "text": [
      "Logistic regression - tuned, got 98.92229154849687% accuracy on the test set.\n"
     ]
    }
   ],
   "source": [
    "print(\"Logistic regression - tuned, got {}% accuracy on the test set.\".format(accuracy_score(y_test, lr_tuned.predict(X_test))*100))"
   ]
  },
  {
   "cell_type": "markdown",
   "metadata": {},
   "source": [
    "### Step 2.4 Tree and forest classifiers"
   ]
  },
  {
   "cell_type": "markdown",
   "metadata": {},
   "source": [
    "#### Step 2.4.1 Decision Tree"
   ]
  },
  {
   "cell_type": "code",
   "execution_count": 111,
   "metadata": {},
   "outputs": [],
   "source": [
    "from sklearn.tree import DecisionTreeClassifier"
   ]
  },
  {
   "cell_type": "code",
   "execution_count": 112,
   "metadata": {},
   "outputs": [
    {
     "data": {
      "text/plain": [
       "DecisionTreeClassifier(ccp_alpha=0.0, class_weight=None, criterion='gini',\n",
       "                       max_depth=None, max_features=None, max_leaf_nodes=None,\n",
       "                       min_impurity_decrease=0.0, min_impurity_split=None,\n",
       "                       min_samples_leaf=1, min_samples_split=2,\n",
       "                       min_weight_fraction_leaf=0.0, presort='deprecated',\n",
       "                       random_state=None, splitter='best')"
      ]
     },
     "execution_count": 112,
     "metadata": {},
     "output_type": "execute_result"
    }
   ],
   "source": [
    "dtc = DecisionTreeClassifier()\n",
    "dtc.fit(X_train, y_train)"
   ]
  },
  {
   "cell_type": "code",
   "execution_count": 113,
   "metadata": {},
   "outputs": [
    {
     "name": "stdout",
     "output_type": "stream",
     "text": [
      "Decision tree classifier, got 98.86557005104935% accuracy on the test set.\n"
     ]
    }
   ],
   "source": [
    "print(\"Decision tree classifier, got {}% accuracy on the test set.\".format(accuracy_score(y_test, dtc.predict(X_test))*100))"
   ]
  },
  {
   "cell_type": "markdown",
   "metadata": {},
   "source": [
    "#### Step 2.4.2  Random Forest"
   ]
  },
  {
   "cell_type": "code",
   "execution_count": 114,
   "metadata": {},
   "outputs": [],
   "source": [
    "from sklearn.ensemble import RandomForestClassifier"
   ]
  },
  {
   "cell_type": "code",
   "execution_count": 115,
   "metadata": {},
   "outputs": [
    {
     "data": {
      "text/plain": [
       "RandomForestClassifier(bootstrap=True, ccp_alpha=0.0, class_weight=None,\n",
       "                       criterion='gini', max_depth=None, max_features='auto',\n",
       "                       max_leaf_nodes=None, max_samples=None,\n",
       "                       min_impurity_decrease=0.0, min_impurity_split=None,\n",
       "                       min_samples_leaf=1, min_samples_split=2,\n",
       "                       min_weight_fraction_leaf=0.0, n_estimators=350,\n",
       "                       n_jobs=None, oob_score=False, random_state=None,\n",
       "                       verbose=0, warm_start=False)"
      ]
     },
     "execution_count": 115,
     "metadata": {},
     "output_type": "execute_result"
    }
   ],
   "source": [
    "rfc = RandomForestClassifier(n_estimators=350)\n",
    "rfc.fit(X_train, y_train)"
   ]
  },
  {
   "cell_type": "code",
   "execution_count": 116,
   "metadata": {},
   "outputs": [
    {
     "name": "stdout",
     "output_type": "stream",
     "text": [
      "Random forest classifier, got 99.37606352807714% accuracy on the test set.\n"
     ]
    }
   ],
   "source": [
    "print(\"Random forest classifier, got {}% accuracy on the test set.\".format(accuracy_score(y_test, rfc.predict(X_test))*100))"
   ]
  },
  {
   "cell_type": "markdown",
   "metadata": {},
   "source": [
    "## Summary:"
   ]
  },
  {
   "cell_type": "markdown",
   "metadata": {},
   "source": [
    "In this task as you can see the best overall performance (accuracy) on the test set is seen with Random Forest Classifier - 94.4%. Right behind it Logistic Regression showed great accuracy 99.0%(approx)."
   ]
  },
  {
   "cell_type": "code",
   "execution_count": 119,
   "metadata": {},
   "outputs": [],
   "source": [
    "accuracy_tree = cross_val_score(dtc, scled_features, labels, scoring='accuracy', cv=10)"
   ]
  },
  {
   "cell_type": "code",
   "execution_count": 120,
   "metadata": {},
   "outputs": [
    {
     "name": "stdout",
     "output_type": "stream",
     "text": [
      "0.990636987333264\n"
     ]
    }
   ],
   "source": [
    "print(np.mean(accuracy_tree))"
   ]
  },
  {
   "cell_type": "markdown",
   "metadata": {},
   "source": [
    "To be sure we tested the algorithm with best performance on cross_validation on whole dataset and Performance is pretty good."
   ]
  }
 ],
 "metadata": {
  "kernelspec": {
   "display_name": "Python 3",
   "language": "python",
   "name": "python3"
  },
  "language_info": {
   "codemirror_mode": {
    "name": "ipython",
    "version": 3
   },
   "file_extension": ".py",
   "mimetype": "text/x-python",
   "name": "python",
   "nbconvert_exporter": "python",
   "pygments_lexer": "ipython3",
   "version": "3.7.4"
  }
 },
 "nbformat": 4,
 "nbformat_minor": 1
}
